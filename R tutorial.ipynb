{
 "cells": [
  {
   "cell_type": "code",
   "execution_count": null,
   "id": "b33c4f5f",
   "metadata": {},
   "outputs": [],
   "source": [
    "library(dplyr) # 用于数据变换、数据清理\n",
    "library(caret) # 用于机器学习建模\n",
    "library(ggplot2) # 用于绘图\n",
    "library(stringr) # 用于字符串数据处理"
   ]
  },
  {
   "cell_type": "code",
   "execution_count": 1,
   "id": "67f87958",
   "metadata": {},
   "outputs": [
    {
     "data": {
      "text/html": [
       "<table>\n",
       "<thead><tr><th scope=col>fcol1</th><th scope=col>fcol2</th></tr></thead>\n",
       "<tbody>\n",
       "\t<tr><td>id1</td><td>1  </td></tr>\n",
       "\t<tr><td>id2</td><td>2  </td></tr>\n",
       "\t<tr><td>id3</td><td>3  </td></tr>\n",
       "</tbody>\n",
       "</table>\n"
      ],
      "text/latex": [
       "\\begin{tabular}{r|ll}\n",
       " fcol1 & fcol2\\\\\n",
       "\\hline\n",
       "\t id1 & 1  \\\\\n",
       "\t id2 & 2  \\\\\n",
       "\t id3 & 3  \\\\\n",
       "\\end{tabular}\n"
      ],
      "text/markdown": [
       "\n",
       "| fcol1 | fcol2 |\n",
       "|---|---|\n",
       "| id1 | 1   |\n",
       "| id2 | 2   |\n",
       "| id3 | 3   |\n",
       "\n"
      ],
      "text/plain": [
       "  fcol1 fcol2\n",
       "1 id1   1    \n",
       "2 id2   2    \n",
       "3 id3   3    "
      ]
     },
     "metadata": {},
     "output_type": "display_data"
    },
    {
     "data": {
      "text/html": [
       "<table>\n",
       "<thead><tr><th scope=col>fcol1</th><th scope=col>fcol2</th></tr></thead>\n",
       "<tbody>\n",
       "\t<tr><td>id1</td><td> 1 </td></tr>\n",
       "\t<tr><td>id2</td><td>NA </td></tr>\n",
       "\t<tr><td>id3</td><td> 3 </td></tr>\n",
       "</tbody>\n",
       "</table>\n"
      ],
      "text/latex": [
       "\\begin{tabular}{r|ll}\n",
       " fcol1 & fcol2\\\\\n",
       "\\hline\n",
       "\t id1 &  1 \\\\\n",
       "\t id2 & NA \\\\\n",
       "\t id3 &  3 \\\\\n",
       "\\end{tabular}\n"
      ],
      "text/markdown": [
       "\n",
       "| fcol1 | fcol2 |\n",
       "|---|---|\n",
       "| id1 |  1  |\n",
       "| id2 | NA  |\n",
       "| id3 |  3  |\n",
       "\n"
      ],
      "text/plain": [
       "  fcol1 fcol2\n",
       "1 id1    1   \n",
       "2 id2   NA   \n",
       "3 id3    3   "
      ]
     },
     "metadata": {},
     "output_type": "display_data"
    },
    {
     "data": {
      "text/html": [
       "<ol class=list-inline>\n",
       "\t<li>'id1'</li>\n",
       "\t<li>'id2'</li>\n",
       "\t<li>'id3'</li>\n",
       "</ol>\n"
      ],
      "text/latex": [
       "\\begin{enumerate*}\n",
       "\\item 'id1'\n",
       "\\item 'id2'\n",
       "\\item 'id3'\n",
       "\\end{enumerate*}\n"
      ],
      "text/markdown": [
       "1. 'id1'\n",
       "2. 'id2'\n",
       "3. 'id3'\n",
       "\n",
       "\n"
      ],
      "text/plain": [
       "[1] \"id1\" \"id2\" \"id3\""
      ]
     },
     "metadata": {},
     "output_type": "display_data"
    },
    {
     "data": {
      "text/plain": [
       "NULL"
      ]
     },
     "metadata": {},
     "output_type": "display_data"
    }
   ],
   "source": [
    "# make a new dataframe\n",
    "fcol1 <- c(\"id1\", \"id2\", \"id3\")\n",
    "fcol2 <- c(1, 2, 3)\n",
    "data2 = data.frame(fcol1, fcol2)\n",
    "data2\n",
    "# Assign empty value to an element in a data frame\n",
    "# data2[2,2] <- NULL (cannot do that)\n",
    "data2[2,2] <- NA\n",
    "data2\n",
    "# Assign NULL to a list\n",
    "fcol1\n",
    "fcol1 <- NULL\n",
    "fcol1"
   ]
  },
  {
   "cell_type": "code",
   "execution_count": null,
   "id": "308e0641",
   "metadata": {},
   "outputs": [],
   "source": []
  },
  {
   "cell_type": "code",
   "execution_count": 20,
   "id": "691a078d",
   "metadata": {},
   "outputs": [
    {
     "name": "stderr",
     "output_type": "stream",
     "text": [
      "Parsed with column specification:\n",
      "cols(\n",
      "  Col1 = col_character(),\n",
      "  Col2 = col_character(),\n",
      "  Col3 = col_double(),\n",
      "  Col4 = col_double(),\n",
      "  Col5 = col_double(),\n",
      "  Col6 = col_double(),\n",
      "  Col7 = col_double(),\n",
      "  Label = col_character()\n",
      ")\n"
     ]
    },
    {
     "data": {
      "text/html": [
       "<table>\n",
       "<thead><tr><th scope=col>Col1</th><th scope=col>Col2</th><th scope=col>Col3</th><th scope=col>Col4</th><th scope=col>Col5</th><th scope=col>Col6</th><th scope=col>Col7</th><th scope=col>Label</th></tr></thead>\n",
       "<tbody>\n",
       "\t<tr><td>id1 </td><td>aa  </td><td>1   </td><td> 0.6</td><td> 2  </td><td> -2 </td><td> 1.3</td><td>lb1 </td></tr>\n",
       "\t<tr><td>id2 </td><td>bb  </td><td>2   </td><td>  NA</td><td> 4  </td><td> -4 </td><td> 2.8</td><td>lb2 </td></tr>\n",
       "\t<tr><td>id3 </td><td>cc  </td><td>3   </td><td> 0.4</td><td> 6  </td><td> -6 </td><td>-3.5</td><td>lb2 </td></tr>\n",
       "\t<tr><td>id4 </td><td>aa  </td><td>4   </td><td>12.0</td><td> 8  </td><td> -8 </td><td> 4.4</td><td>lb1 </td></tr>\n",
       "\t<tr><td>id5 </td><td>cc  </td><td>5   </td><td> 0.7</td><td>10  </td><td>-10 </td><td> 9.9</td><td>lb2 </td></tr>\n",
       "\t<tr><td>id5 </td><td>cc  </td><td>5   </td><td> 0.7</td><td>10  </td><td>-10 </td><td> 9.9</td><td>lb2 </td></tr>\n",
       "\t<tr><td>id6 </td><td>dd  </td><td>6   </td><td> 0.5</td><td>12  </td><td>-12 </td><td>-1.9</td><td>lb2 </td></tr>\n",
       "\t<tr><td>id7 </td><td>bb  </td><td>7   </td><td>-2.0</td><td>14  </td><td>-14 </td><td> 0.0</td><td>lb2 </td></tr>\n",
       "</tbody>\n",
       "</table>\n"
      ],
      "text/latex": [
       "\\begin{tabular}{r|llllllll}\n",
       " Col1 & Col2 & Col3 & Col4 & Col5 & Col6 & Col7 & Label\\\\\n",
       "\\hline\n",
       "\t id1  & aa   & 1    &  0.6 &  2   &  -2  &  1.3 & lb1 \\\\\n",
       "\t id2  & bb   & 2    &   NA &  4   &  -4  &  2.8 & lb2 \\\\\n",
       "\t id3  & cc   & 3    &  0.4 &  6   &  -6  & -3.5 & lb2 \\\\\n",
       "\t id4  & aa   & 4    & 12.0 &  8   &  -8  &  4.4 & lb1 \\\\\n",
       "\t id5  & cc   & 5    &  0.7 & 10   & -10  &  9.9 & lb2 \\\\\n",
       "\t id5  & cc   & 5    &  0.7 & 10   & -10  &  9.9 & lb2 \\\\\n",
       "\t id6  & dd   & 6    &  0.5 & 12   & -12  & -1.9 & lb2 \\\\\n",
       "\t id7  & bb   & 7    & -2.0 & 14   & -14  &  0.0 & lb2 \\\\\n",
       "\\end{tabular}\n"
      ],
      "text/markdown": [
       "\n",
       "| Col1 | Col2 | Col3 | Col4 | Col5 | Col6 | Col7 | Label |\n",
       "|---|---|---|---|---|---|---|---|\n",
       "| id1  | aa   | 1    |  0.6 |  2   |  -2  |  1.3 | lb1  |\n",
       "| id2  | bb   | 2    |   NA |  4   |  -4  |  2.8 | lb2  |\n",
       "| id3  | cc   | 3    |  0.4 |  6   |  -6  | -3.5 | lb2  |\n",
       "| id4  | aa   | 4    | 12.0 |  8   |  -8  |  4.4 | lb1  |\n",
       "| id5  | cc   | 5    |  0.7 | 10   | -10  |  9.9 | lb2  |\n",
       "| id5  | cc   | 5    |  0.7 | 10   | -10  |  9.9 | lb2  |\n",
       "| id6  | dd   | 6    |  0.5 | 12   | -12  | -1.9 | lb2  |\n",
       "| id7  | bb   | 7    | -2.0 | 14   | -14  |  0.0 | lb2  |\n",
       "\n"
      ],
      "text/plain": [
       "  Col1 Col2 Col3 Col4 Col5 Col6 Col7 Label\n",
       "1 id1  aa   1     0.6  2    -2   1.3 lb1  \n",
       "2 id2  bb   2      NA  4    -4   2.8 lb2  \n",
       "3 id3  cc   3     0.4  6    -6  -3.5 lb2  \n",
       "4 id4  aa   4    12.0  8    -8   4.4 lb1  \n",
       "5 id5  cc   5     0.7 10   -10   9.9 lb2  \n",
       "6 id5  cc   5     0.7 10   -10   9.9 lb2  \n",
       "7 id6  dd   6     0.5 12   -12  -1.9 lb2  \n",
       "8 id7  bb   7    -2.0 14   -14   0.0 lb2  "
      ]
     },
     "metadata": {},
     "output_type": "display_data"
    }
   ],
   "source": [
    "# read data from a file\n",
    "data1 <- readr::read_csv(\"sample.csv\")\n",
    "data1"
   ]
  },
  {
   "cell_type": "code",
   "execution_count": null,
   "id": "60b10a79",
   "metadata": {},
   "outputs": [],
   "source": []
  },
  {
   "cell_type": "code",
   "execution_count": 3,
   "id": "53990050",
   "metadata": {},
   "outputs": [
    {
     "data": {
      "text/plain": [
       "     Col1               Col2                Col3            Col4       \n",
       " Length:8           Length:8           Min.   :1.000   Min.   :-2.000  \n",
       " Class :character   Class :character   1st Qu.:2.750   1st Qu.: 0.450  \n",
       " Mode  :character   Mode  :character   Median :4.500   Median : 0.600  \n",
       "                                       Mean   :4.125   Mean   : 1.843  \n",
       "                                       3rd Qu.:5.250   3rd Qu.: 0.700  \n",
       "                                       Max.   :7.000   Max.   :12.000  \n",
       "                                                       NA's   :1       \n",
       "      Col5            Col6             Col7           Label          \n",
       " Min.   : 2.00   Min.   :-14.00   Min.   :-3.500   Length:8          \n",
       " 1st Qu.: 5.50   1st Qu.:-10.50   1st Qu.:-0.475   Class :character  \n",
       " Median : 9.00   Median : -9.00   Median : 2.050   Mode  :character  \n",
       " Mean   : 8.25   Mean   : -8.25   Mean   : 2.862                     \n",
       " 3rd Qu.:10.50   3rd Qu.: -5.50   3rd Qu.: 5.775                     \n",
       " Max.   :14.00   Max.   : -2.00   Max.   : 9.900                     \n",
       "                                                                     "
      ]
     },
     "metadata": {},
     "output_type": "display_data"
    },
    {
     "data": {
      "text/plain": [
       "     Col1           Col2        Col3            Col4             Col5      \n",
       " Length:8           aa:2   Min.   :1.000   Min.   :-2.000   Min.   : 2.00  \n",
       " Class :character   bb:2   1st Qu.:2.750   1st Qu.: 0.450   1st Qu.: 5.50  \n",
       " Mode  :character   cc:3   Median :4.500   Median : 0.600   Median : 9.00  \n",
       "                    dd:1   Mean   :4.125   Mean   : 1.843   Mean   : 8.25  \n",
       "                           3rd Qu.:5.250   3rd Qu.: 0.700   3rd Qu.:10.50  \n",
       "                           Max.   :7.000   Max.   :12.000   Max.   :14.00  \n",
       "                                           NA's   :1                       \n",
       "      Col6             Col7        Label  \n",
       " Min.   :-14.00   Min.   :-3.500   lb1:2  \n",
       " 1st Qu.:-10.50   1st Qu.:-0.475   lb2:6  \n",
       " Median : -9.00   Median : 2.050          \n",
       " Mean   : -8.25   Mean   : 2.862          \n",
       " 3rd Qu.: -5.50   3rd Qu.: 5.775          \n",
       " Max.   : -2.00   Max.   : 9.900          \n",
       "                                          "
      ]
     },
     "metadata": {},
     "output_type": "display_data"
    }
   ],
   "source": [
    "# EDA\n",
    "summary(data1)\n",
    "\n",
    "# Set column types\n",
    "data1$Col2 <- as.factor(data1$Col2)\n",
    "data1$Label <- as.factor(data1$Label)\n",
    "summary(data1)"
   ]
  },
  {
   "cell_type": "code",
   "execution_count": 4,
   "id": "264494d2",
   "metadata": {},
   "outputs": [
    {
     "data": {
      "text/html": [
       "<ol class=list-inline>\n",
       "\t<li>'A'</li>\n",
       "\t<li>'C'</li>\n",
       "\t<li>'D'</li>\n",
       "</ol>\n"
      ],
      "text/latex": [
       "\\begin{enumerate*}\n",
       "\\item 'A'\n",
       "\\item 'C'\n",
       "\\item 'D'\n",
       "\\end{enumerate*}\n"
      ],
      "text/markdown": [
       "1. 'A'\n",
       "2. 'C'\n",
       "3. 'D'\n",
       "\n",
       "\n"
      ],
      "text/plain": [
       "[1] \"A\" \"C\" \"D\""
      ]
     },
     "metadata": {},
     "output_type": "display_data"
    },
    {
     "data": {
      "text/html": [
       "<ol class=list-inline>\n",
       "\t<li>A</li>\n",
       "\t<li>C</li>\n",
       "\t<li>D</li>\n",
       "</ol>\n",
       "\n",
       "<details>\n",
       "\t<summary style=display:list-item;cursor:pointer>\n",
       "\t\t<strong>Levels</strong>:\n",
       "\t</summary>\n",
       "\t<ol class=list-inline>\n",
       "\t\t<li>'A'</li>\n",
       "\t\t<li>'C'</li>\n",
       "\t\t<li>'D'</li>\n",
       "\t</ol>\n",
       "</details>"
      ],
      "text/latex": [
       "\\begin{enumerate*}\n",
       "\\item A\n",
       "\\item C\n",
       "\\item D\n",
       "\\end{enumerate*}\n",
       "\n",
       "\\emph{Levels}: \\begin{enumerate*}\n",
       "\\item 'A'\n",
       "\\item 'C'\n",
       "\\item 'D'\n",
       "\\end{enumerate*}\n"
      ],
      "text/markdown": [
       "1. A\n",
       "2. C\n",
       "3. D\n",
       "\n",
       "\n",
       "\n",
       "**Levels**: 1. 'A'\n",
       "2. 'C'\n",
       "3. 'D'\n",
       "\n",
       "\n"
      ],
      "text/plain": [
       "[1] A C D\n",
       "Levels: A C D"
      ]
     },
     "metadata": {},
     "output_type": "display_data"
    },
    {
     "data": {
      "text/html": [
       "<ol class=list-inline>\n",
       "\t<li>1</li>\n",
       "\t<li>2</li>\n",
       "\t<li>3</li>\n",
       "</ol>\n"
      ],
      "text/latex": [
       "\\begin{enumerate*}\n",
       "\\item 1\n",
       "\\item 2\n",
       "\\item 3\n",
       "\\end{enumerate*}\n"
      ],
      "text/markdown": [
       "1. 1\n",
       "2. 2\n",
       "3. 3\n",
       "\n",
       "\n"
      ],
      "text/plain": [
       "[1] 1 2 3"
      ]
     },
     "metadata": {},
     "output_type": "display_data"
    }
   ],
   "source": [
    "# Categoric type, transformation\n",
    "l <- c(\"A\", \"C\", \"D\")\n",
    "l\n",
    "l <- as.factor(l)\n",
    "l\n",
    "# convert it as numeric\n",
    "ll <- as.numeric(l)\n",
    "ll"
   ]
  },
  {
   "cell_type": "code",
   "execution_count": 5,
   "id": "1d347a89",
   "metadata": {},
   "outputs": [
    {
     "data": {
      "text/html": [
       "<table>\n",
       "<thead><tr><th scope=col>Col1</th><th scope=col>Col2</th><th scope=col>Col3</th><th scope=col>Col4</th><th scope=col>Col5</th><th scope=col>Col6</th><th scope=col>Col7</th><th scope=col>Label</th></tr></thead>\n",
       "<tbody>\n",
       "\t<tr><td>FALSE</td><td>FALSE</td><td>FALSE</td><td>FALSE</td><td>FALSE</td><td>FALSE</td><td>FALSE</td><td>FALSE</td></tr>\n",
       "\t<tr><td>FALSE</td><td>FALSE</td><td>FALSE</td><td> TRUE</td><td>FALSE</td><td>FALSE</td><td>FALSE</td><td>FALSE</td></tr>\n",
       "\t<tr><td>FALSE</td><td>FALSE</td><td>FALSE</td><td>FALSE</td><td>FALSE</td><td>FALSE</td><td>FALSE</td><td>FALSE</td></tr>\n",
       "\t<tr><td>FALSE</td><td>FALSE</td><td>FALSE</td><td>FALSE</td><td>FALSE</td><td>FALSE</td><td>FALSE</td><td>FALSE</td></tr>\n",
       "\t<tr><td>FALSE</td><td>FALSE</td><td>FALSE</td><td>FALSE</td><td>FALSE</td><td>FALSE</td><td>FALSE</td><td>FALSE</td></tr>\n",
       "\t<tr><td>FALSE</td><td>FALSE</td><td>FALSE</td><td>FALSE</td><td>FALSE</td><td>FALSE</td><td>FALSE</td><td>FALSE</td></tr>\n",
       "\t<tr><td>FALSE</td><td>FALSE</td><td>FALSE</td><td>FALSE</td><td>FALSE</td><td>FALSE</td><td>FALSE</td><td>FALSE</td></tr>\n",
       "\t<tr><td>FALSE</td><td>FALSE</td><td>FALSE</td><td>FALSE</td><td>FALSE</td><td>FALSE</td><td>FALSE</td><td>FALSE</td></tr>\n",
       "</tbody>\n",
       "</table>\n"
      ],
      "text/latex": [
       "\\begin{tabular}{llllllll}\n",
       " Col1 & Col2 & Col3 & Col4 & Col5 & Col6 & Col7 & Label\\\\\n",
       "\\hline\n",
       "\t FALSE & FALSE & FALSE & FALSE & FALSE & FALSE & FALSE & FALSE\\\\\n",
       "\t FALSE & FALSE & FALSE &  TRUE & FALSE & FALSE & FALSE & FALSE\\\\\n",
       "\t FALSE & FALSE & FALSE & FALSE & FALSE & FALSE & FALSE & FALSE\\\\\n",
       "\t FALSE & FALSE & FALSE & FALSE & FALSE & FALSE & FALSE & FALSE\\\\\n",
       "\t FALSE & FALSE & FALSE & FALSE & FALSE & FALSE & FALSE & FALSE\\\\\n",
       "\t FALSE & FALSE & FALSE & FALSE & FALSE & FALSE & FALSE & FALSE\\\\\n",
       "\t FALSE & FALSE & FALSE & FALSE & FALSE & FALSE & FALSE & FALSE\\\\\n",
       "\t FALSE & FALSE & FALSE & FALSE & FALSE & FALSE & FALSE & FALSE\\\\\n",
       "\\end{tabular}\n"
      ],
      "text/markdown": [
       "\n",
       "| Col1 | Col2 | Col3 | Col4 | Col5 | Col6 | Col7 | Label |\n",
       "|---|---|---|---|---|---|---|---|\n",
       "| FALSE | FALSE | FALSE | FALSE | FALSE | FALSE | FALSE | FALSE |\n",
       "| FALSE | FALSE | FALSE |  TRUE | FALSE | FALSE | FALSE | FALSE |\n",
       "| FALSE | FALSE | FALSE | FALSE | FALSE | FALSE | FALSE | FALSE |\n",
       "| FALSE | FALSE | FALSE | FALSE | FALSE | FALSE | FALSE | FALSE |\n",
       "| FALSE | FALSE | FALSE | FALSE | FALSE | FALSE | FALSE | FALSE |\n",
       "| FALSE | FALSE | FALSE | FALSE | FALSE | FALSE | FALSE | FALSE |\n",
       "| FALSE | FALSE | FALSE | FALSE | FALSE | FALSE | FALSE | FALSE |\n",
       "| FALSE | FALSE | FALSE | FALSE | FALSE | FALSE | FALSE | FALSE |\n",
       "\n"
      ],
      "text/plain": [
       "     Col1  Col2  Col3  Col4  Col5  Col6  Col7  Label\n",
       "[1,] FALSE FALSE FALSE FALSE FALSE FALSE FALSE FALSE\n",
       "[2,] FALSE FALSE FALSE  TRUE FALSE FALSE FALSE FALSE\n",
       "[3,] FALSE FALSE FALSE FALSE FALSE FALSE FALSE FALSE\n",
       "[4,] FALSE FALSE FALSE FALSE FALSE FALSE FALSE FALSE\n",
       "[5,] FALSE FALSE FALSE FALSE FALSE FALSE FALSE FALSE\n",
       "[6,] FALSE FALSE FALSE FALSE FALSE FALSE FALSE FALSE\n",
       "[7,] FALSE FALSE FALSE FALSE FALSE FALSE FALSE FALSE\n",
       "[8,] FALSE FALSE FALSE FALSE FALSE FALSE FALSE FALSE"
      ]
     },
     "metadata": {},
     "output_type": "display_data"
    },
    {
     "data": {
      "text/html": [
       "<ol class=list-inline>\n",
       "\t<li>FALSE</li>\n",
       "\t<li>TRUE</li>\n",
       "\t<li>FALSE</li>\n",
       "\t<li>FALSE</li>\n",
       "\t<li>FALSE</li>\n",
       "\t<li>FALSE</li>\n",
       "\t<li>FALSE</li>\n",
       "\t<li>FALSE</li>\n",
       "</ol>\n"
      ],
      "text/latex": [
       "\\begin{enumerate*}\n",
       "\\item FALSE\n",
       "\\item TRUE\n",
       "\\item FALSE\n",
       "\\item FALSE\n",
       "\\item FALSE\n",
       "\\item FALSE\n",
       "\\item FALSE\n",
       "\\item FALSE\n",
       "\\end{enumerate*}\n"
      ],
      "text/markdown": [
       "1. FALSE\n",
       "2. TRUE\n",
       "3. FALSE\n",
       "4. FALSE\n",
       "5. FALSE\n",
       "6. FALSE\n",
       "7. FALSE\n",
       "8. FALSE\n",
       "\n",
       "\n"
      ],
      "text/plain": [
       "[1] FALSE  TRUE FALSE FALSE FALSE FALSE FALSE FALSE"
      ]
     },
     "metadata": {},
     "output_type": "display_data"
    },
    {
     "data": {
      "text/html": [
       "<table>\n",
       "<thead><tr><th scope=col>Col1</th><th scope=col>Col2</th><th scope=col>Col3</th><th scope=col>Col4</th><th scope=col>Col5</th><th scope=col>Col6</th><th scope=col>Col7</th><th scope=col>Label</th></tr></thead>\n",
       "<tbody>\n",
       "\t<tr><td>id2</td><td>bb </td><td>2  </td><td>NA </td><td>4  </td><td>-4 </td><td>2.8</td><td>lb2</td></tr>\n",
       "</tbody>\n",
       "</table>\n"
      ],
      "text/latex": [
       "\\begin{tabular}{r|llllllll}\n",
       " Col1 & Col2 & Col3 & Col4 & Col5 & Col6 & Col7 & Label\\\\\n",
       "\\hline\n",
       "\t id2 & bb  & 2   & NA  & 4   & -4  & 2.8 & lb2\\\\\n",
       "\\end{tabular}\n"
      ],
      "text/markdown": [
       "\n",
       "| Col1 | Col2 | Col3 | Col4 | Col5 | Col6 | Col7 | Label |\n",
       "|---|---|---|---|---|---|---|---|\n",
       "| id2 | bb  | 2   | NA  | 4   | -4  | 2.8 | lb2 |\n",
       "\n"
      ],
      "text/plain": [
       "  Col1 Col2 Col3 Col4 Col5 Col6 Col7 Label\n",
       "1 id2  bb   2    NA   4    -4   2.8  lb2  "
      ]
     },
     "metadata": {},
     "output_type": "display_data"
    }
   ],
   "source": [
    "# Discover NA element\n",
    "# https://statisticsglobe.com/r-is-na-function/\n",
    "isNa <- is.na(data1)\n",
    "isNa\n",
    "is.na(data1$Col4)\n",
    "data1[is.na(data1$Col4),]"
   ]
  },
  {
   "cell_type": "code",
   "execution_count": 6,
   "id": "5c1c5b3d",
   "metadata": {},
   "outputs": [
    {
     "data": {
      "text/html": [
       "<table>\n",
       "<thead><tr><th scope=col>Col1</th><th scope=col>Col2</th><th scope=col>Col3</th><th scope=col>Col4</th><th scope=col>Col5</th><th scope=col>Col6</th><th scope=col>Col7</th><th scope=col>Label</th></tr></thead>\n",
       "<tbody>\n",
       "\t<tr><td>id1 </td><td>aa  </td><td>1   </td><td> 0.6</td><td> 2  </td><td> -2 </td><td> 1.3</td><td>lb1 </td></tr>\n",
       "\t<tr><td>id2 </td><td>bb  </td><td>2   </td><td>  NA</td><td> 4  </td><td> -4 </td><td> 2.8</td><td>lb2 </td></tr>\n",
       "\t<tr><td>id3 </td><td>cc  </td><td>3   </td><td> 0.4</td><td> 6  </td><td> -6 </td><td>-3.5</td><td>lb2 </td></tr>\n",
       "\t<tr><td>id4 </td><td>aa  </td><td>4   </td><td>12.0</td><td> 8  </td><td> -8 </td><td> 4.4</td><td>lb1 </td></tr>\n",
       "\t<tr><td>id5 </td><td>cc  </td><td>5   </td><td> 0.7</td><td>10  </td><td>-10 </td><td> 9.9</td><td>lb2 </td></tr>\n",
       "\t<tr><td>id5 </td><td>cc  </td><td>5   </td><td> 0.7</td><td>10  </td><td>-10 </td><td> 9.9</td><td>lb2 </td></tr>\n",
       "\t<tr><td>id6 </td><td>dd  </td><td>6   </td><td> 0.5</td><td>12  </td><td>-12 </td><td>-1.9</td><td>lb2 </td></tr>\n",
       "\t<tr><td>id7 </td><td>bb  </td><td>7   </td><td>-2.0</td><td>14  </td><td>-14 </td><td> 0.0</td><td>lb2 </td></tr>\n",
       "</tbody>\n",
       "</table>\n"
      ],
      "text/latex": [
       "\\begin{tabular}{r|llllllll}\n",
       " Col1 & Col2 & Col3 & Col4 & Col5 & Col6 & Col7 & Label\\\\\n",
       "\\hline\n",
       "\t id1  & aa   & 1    &  0.6 &  2   &  -2  &  1.3 & lb1 \\\\\n",
       "\t id2  & bb   & 2    &   NA &  4   &  -4  &  2.8 & lb2 \\\\\n",
       "\t id3  & cc   & 3    &  0.4 &  6   &  -6  & -3.5 & lb2 \\\\\n",
       "\t id4  & aa   & 4    & 12.0 &  8   &  -8  &  4.4 & lb1 \\\\\n",
       "\t id5  & cc   & 5    &  0.7 & 10   & -10  &  9.9 & lb2 \\\\\n",
       "\t id5  & cc   & 5    &  0.7 & 10   & -10  &  9.9 & lb2 \\\\\n",
       "\t id6  & dd   & 6    &  0.5 & 12   & -12  & -1.9 & lb2 \\\\\n",
       "\t id7  & bb   & 7    & -2.0 & 14   & -14  &  0.0 & lb2 \\\\\n",
       "\\end{tabular}\n"
      ],
      "text/markdown": [
       "\n",
       "| Col1 | Col2 | Col3 | Col4 | Col5 | Col6 | Col7 | Label |\n",
       "|---|---|---|---|---|---|---|---|\n",
       "| id1  | aa   | 1    |  0.6 |  2   |  -2  |  1.3 | lb1  |\n",
       "| id2  | bb   | 2    |   NA |  4   |  -4  |  2.8 | lb2  |\n",
       "| id3  | cc   | 3    |  0.4 |  6   |  -6  | -3.5 | lb2  |\n",
       "| id4  | aa   | 4    | 12.0 |  8   |  -8  |  4.4 | lb1  |\n",
       "| id5  | cc   | 5    |  0.7 | 10   | -10  |  9.9 | lb2  |\n",
       "| id5  | cc   | 5    |  0.7 | 10   | -10  |  9.9 | lb2  |\n",
       "| id6  | dd   | 6    |  0.5 | 12   | -12  | -1.9 | lb2  |\n",
       "| id7  | bb   | 7    | -2.0 | 14   | -14  |  0.0 | lb2  |\n",
       "\n"
      ],
      "text/plain": [
       "  Col1 Col2 Col3 Col4 Col5 Col6 Col7 Label\n",
       "1 id1  aa   1     0.6  2    -2   1.3 lb1  \n",
       "2 id2  bb   2      NA  4    -4   2.8 lb2  \n",
       "3 id3  cc   3     0.4  6    -6  -3.5 lb2  \n",
       "4 id4  aa   4    12.0  8    -8   4.4 lb1  \n",
       "5 id5  cc   5     0.7 10   -10   9.9 lb2  \n",
       "6 id5  cc   5     0.7 10   -10   9.9 lb2  \n",
       "7 id6  dd   6     0.5 12   -12  -1.9 lb2  \n",
       "8 id7  bb   7    -2.0 14   -14   0.0 lb2  "
      ]
     },
     "metadata": {},
     "output_type": "display_data"
    },
    {
     "data": {
      "text/html": [
       "<table>\n",
       "<thead><tr><th scope=col>Col1</th><th scope=col>Col2</th><th scope=col>Col3</th><th scope=col>Col4</th><th scope=col>Col5</th><th scope=col>Col6</th><th scope=col>Col7</th><th scope=col>Label</th></tr></thead>\n",
       "<tbody>\n",
       "\t<tr><td>id1 </td><td>aa  </td><td> 1  </td><td> 0.6</td><td> 2  </td><td> -2 </td><td> 1.3</td><td>lb1 </td></tr>\n",
       "\t<tr><td>id2 </td><td>bb  </td><td> 2  </td><td>  NA</td><td> 4  </td><td> -4 </td><td> 2.8</td><td>lb2 </td></tr>\n",
       "\t<tr><td>id3 </td><td>cc  </td><td> 3  </td><td> 0.4</td><td> 6  </td><td> -6 </td><td>-3.5</td><td>lb2 </td></tr>\n",
       "\t<tr><td>id4 </td><td>aa  </td><td>NA  </td><td>12.0</td><td> 8  </td><td> -8 </td><td> 4.4</td><td>lb1 </td></tr>\n",
       "\t<tr><td>id5 </td><td>cc  </td><td> 5  </td><td> 0.7</td><td>10  </td><td>-10 </td><td> 9.9</td><td>lb2 </td></tr>\n",
       "\t<tr><td>id5 </td><td>cc  </td><td> 5  </td><td> 0.7</td><td>10  </td><td>-10 </td><td> 9.9</td><td>lb2 </td></tr>\n",
       "\t<tr><td>id6 </td><td>dd  </td><td> 6  </td><td> 0.5</td><td>12  </td><td>-12 </td><td>-1.9</td><td>lb2 </td></tr>\n",
       "\t<tr><td>id7 </td><td>bb  </td><td> 7  </td><td>-2.0</td><td>14  </td><td>-14 </td><td> 0.0</td><td>lb2 </td></tr>\n",
       "</tbody>\n",
       "</table>\n"
      ],
      "text/latex": [
       "\\begin{tabular}{r|llllllll}\n",
       " Col1 & Col2 & Col3 & Col4 & Col5 & Col6 & Col7 & Label\\\\\n",
       "\\hline\n",
       "\t id1  & aa   &  1   &  0.6 &  2   &  -2  &  1.3 & lb1 \\\\\n",
       "\t id2  & bb   &  2   &   NA &  4   &  -4  &  2.8 & lb2 \\\\\n",
       "\t id3  & cc   &  3   &  0.4 &  6   &  -6  & -3.5 & lb2 \\\\\n",
       "\t id4  & aa   & NA   & 12.0 &  8   &  -8  &  4.4 & lb1 \\\\\n",
       "\t id5  & cc   &  5   &  0.7 & 10   & -10  &  9.9 & lb2 \\\\\n",
       "\t id5  & cc   &  5   &  0.7 & 10   & -10  &  9.9 & lb2 \\\\\n",
       "\t id6  & dd   &  6   &  0.5 & 12   & -12  & -1.9 & lb2 \\\\\n",
       "\t id7  & bb   &  7   & -2.0 & 14   & -14  &  0.0 & lb2 \\\\\n",
       "\\end{tabular}\n"
      ],
      "text/markdown": [
       "\n",
       "| Col1 | Col2 | Col3 | Col4 | Col5 | Col6 | Col7 | Label |\n",
       "|---|---|---|---|---|---|---|---|\n",
       "| id1  | aa   |  1   |  0.6 |  2   |  -2  |  1.3 | lb1  |\n",
       "| id2  | bb   |  2   |   NA |  4   |  -4  |  2.8 | lb2  |\n",
       "| id3  | cc   |  3   |  0.4 |  6   |  -6  | -3.5 | lb2  |\n",
       "| id4  | aa   | NA   | 12.0 |  8   |  -8  |  4.4 | lb1  |\n",
       "| id5  | cc   |  5   |  0.7 | 10   | -10  |  9.9 | lb2  |\n",
       "| id5  | cc   |  5   |  0.7 | 10   | -10  |  9.9 | lb2  |\n",
       "| id6  | dd   |  6   |  0.5 | 12   | -12  | -1.9 | lb2  |\n",
       "| id7  | bb   |  7   | -2.0 | 14   | -14  |  0.0 | lb2  |\n",
       "\n"
      ],
      "text/plain": [
       "  Col1 Col2 Col3 Col4 Col5 Col6 Col7 Label\n",
       "1 id1  aa    1    0.6  2    -2   1.3 lb1  \n",
       "2 id2  bb    2     NA  4    -4   2.8 lb2  \n",
       "3 id3  cc    3    0.4  6    -6  -3.5 lb2  \n",
       "4 id4  aa   NA   12.0  8    -8   4.4 lb1  \n",
       "5 id5  cc    5    0.7 10   -10   9.9 lb2  \n",
       "6 id5  cc    5    0.7 10   -10   9.9 lb2  \n",
       "7 id6  dd    6    0.5 12   -12  -1.9 lb2  \n",
       "8 id7  bb    7   -2.0 14   -14   0.0 lb2  "
      ]
     },
     "metadata": {},
     "output_type": "display_data"
    }
   ],
   "source": [
    "# Assign empty value to an element in a dataframe\n",
    "data1\n",
    "# display rows with empty value\n",
    "data1[4, 3] <- NA\n",
    "data1\n",
    "# remove rows with empty value\n"
   ]
  },
  {
   "cell_type": "code",
   "execution_count": 7,
   "id": "62e2a182",
   "metadata": {},
   "outputs": [
    {
     "data": {
      "text/html": [
       "<ol class=list-inline>\n",
       "\t<li>FALSE</li>\n",
       "\t<li>FALSE</li>\n",
       "\t<li>FALSE</li>\n",
       "\t<li>FALSE</li>\n",
       "\t<li>FALSE</li>\n",
       "\t<li>TRUE</li>\n",
       "\t<li>FALSE</li>\n",
       "\t<li>FALSE</li>\n",
       "</ol>\n"
      ],
      "text/latex": [
       "\\begin{enumerate*}\n",
       "\\item FALSE\n",
       "\\item FALSE\n",
       "\\item FALSE\n",
       "\\item FALSE\n",
       "\\item FALSE\n",
       "\\item TRUE\n",
       "\\item FALSE\n",
       "\\item FALSE\n",
       "\\end{enumerate*}\n"
      ],
      "text/markdown": [
       "1. FALSE\n",
       "2. FALSE\n",
       "3. FALSE\n",
       "4. FALSE\n",
       "5. FALSE\n",
       "6. TRUE\n",
       "7. FALSE\n",
       "8. FALSE\n",
       "\n",
       "\n"
      ],
      "text/plain": [
       "[1] FALSE FALSE FALSE FALSE FALSE  TRUE FALSE FALSE"
      ]
     },
     "metadata": {},
     "output_type": "display_data"
    },
    {
     "data": {
      "text/html": [
       "<table>\n",
       "<thead><tr><th scope=col>Col1</th><th scope=col>Col2</th><th scope=col>Col3</th><th scope=col>Col4</th><th scope=col>Col5</th><th scope=col>Col6</th><th scope=col>Col7</th><th scope=col>Label</th></tr></thead>\n",
       "<tbody>\n",
       "\t<tr><td>id5</td><td>cc </td><td>5  </td><td>0.7</td><td>10 </td><td>-10</td><td>9.9</td><td>lb2</td></tr>\n",
       "</tbody>\n",
       "</table>\n"
      ],
      "text/latex": [
       "\\begin{tabular}{r|llllllll}\n",
       " Col1 & Col2 & Col3 & Col4 & Col5 & Col6 & Col7 & Label\\\\\n",
       "\\hline\n",
       "\t id5 & cc  & 5   & 0.7 & 10  & -10 & 9.9 & lb2\\\\\n",
       "\\end{tabular}\n"
      ],
      "text/markdown": [
       "\n",
       "| Col1 | Col2 | Col3 | Col4 | Col5 | Col6 | Col7 | Label |\n",
       "|---|---|---|---|---|---|---|---|\n",
       "| id5 | cc  | 5   | 0.7 | 10  | -10 | 9.9 | lb2 |\n",
       "\n"
      ],
      "text/plain": [
       "  Col1 Col2 Col3 Col4 Col5 Col6 Col7 Label\n",
       "1 id5  cc   5    0.7  10   -10  9.9  lb2  "
      ]
     },
     "metadata": {},
     "output_type": "display_data"
    },
    {
     "data": {
      "text/html": [
       "<table>\n",
       "<thead><tr><th scope=col>Col1</th><th scope=col>Col2</th><th scope=col>Col3</th><th scope=col>Col4</th><th scope=col>Col5</th><th scope=col>Col6</th><th scope=col>Col7</th><th scope=col>Label</th></tr></thead>\n",
       "<tbody>\n",
       "\t<tr><td>id1 </td><td>aa  </td><td> 1  </td><td> 0.6</td><td> 2  </td><td> -2 </td><td> 1.3</td><td>lb1 </td></tr>\n",
       "\t<tr><td>id2 </td><td>bb  </td><td> 2  </td><td>  NA</td><td> 4  </td><td> -4 </td><td> 2.8</td><td>lb2 </td></tr>\n",
       "\t<tr><td>id3 </td><td>cc  </td><td> 3  </td><td> 0.4</td><td> 6  </td><td> -6 </td><td>-3.5</td><td>lb2 </td></tr>\n",
       "\t<tr><td>id4 </td><td>aa  </td><td>NA  </td><td>12.0</td><td> 8  </td><td> -8 </td><td> 4.4</td><td>lb1 </td></tr>\n",
       "\t<tr><td>id5 </td><td>cc  </td><td> 5  </td><td> 0.7</td><td>10  </td><td>-10 </td><td> 9.9</td><td>lb2 </td></tr>\n",
       "\t<tr><td>id6 </td><td>dd  </td><td> 6  </td><td> 0.5</td><td>12  </td><td>-12 </td><td>-1.9</td><td>lb2 </td></tr>\n",
       "\t<tr><td>id7 </td><td>bb  </td><td> 7  </td><td>-2.0</td><td>14  </td><td>-14 </td><td> 0.0</td><td>lb2 </td></tr>\n",
       "</tbody>\n",
       "</table>\n"
      ],
      "text/latex": [
       "\\begin{tabular}{r|llllllll}\n",
       " Col1 & Col2 & Col3 & Col4 & Col5 & Col6 & Col7 & Label\\\\\n",
       "\\hline\n",
       "\t id1  & aa   &  1   &  0.6 &  2   &  -2  &  1.3 & lb1 \\\\\n",
       "\t id2  & bb   &  2   &   NA &  4   &  -4  &  2.8 & lb2 \\\\\n",
       "\t id3  & cc   &  3   &  0.4 &  6   &  -6  & -3.5 & lb2 \\\\\n",
       "\t id4  & aa   & NA   & 12.0 &  8   &  -8  &  4.4 & lb1 \\\\\n",
       "\t id5  & cc   &  5   &  0.7 & 10   & -10  &  9.9 & lb2 \\\\\n",
       "\t id6  & dd   &  6   &  0.5 & 12   & -12  & -1.9 & lb2 \\\\\n",
       "\t id7  & bb   &  7   & -2.0 & 14   & -14  &  0.0 & lb2 \\\\\n",
       "\\end{tabular}\n"
      ],
      "text/markdown": [
       "\n",
       "| Col1 | Col2 | Col3 | Col4 | Col5 | Col6 | Col7 | Label |\n",
       "|---|---|---|---|---|---|---|---|\n",
       "| id1  | aa   |  1   |  0.6 |  2   |  -2  |  1.3 | lb1  |\n",
       "| id2  | bb   |  2   |   NA |  4   |  -4  |  2.8 | lb2  |\n",
       "| id3  | cc   |  3   |  0.4 |  6   |  -6  | -3.5 | lb2  |\n",
       "| id4  | aa   | NA   | 12.0 |  8   |  -8  |  4.4 | lb1  |\n",
       "| id5  | cc   |  5   |  0.7 | 10   | -10  |  9.9 | lb2  |\n",
       "| id6  | dd   |  6   |  0.5 | 12   | -12  | -1.9 | lb2  |\n",
       "| id7  | bb   |  7   | -2.0 | 14   | -14  |  0.0 | lb2  |\n",
       "\n"
      ],
      "text/plain": [
       "  Col1 Col2 Col3 Col4 Col5 Col6 Col7 Label\n",
       "1 id1  aa    1    0.6  2    -2   1.3 lb1  \n",
       "2 id2  bb    2     NA  4    -4   2.8 lb2  \n",
       "3 id3  cc    3    0.4  6    -6  -3.5 lb2  \n",
       "4 id4  aa   NA   12.0  8    -8   4.4 lb1  \n",
       "5 id5  cc    5    0.7 10   -10   9.9 lb2  \n",
       "6 id6  dd    6    0.5 12   -12  -1.9 lb2  \n",
       "7 id7  bb    7   -2.0 14   -14   0.0 lb2  "
      ]
     },
     "metadata": {},
     "output_type": "display_data"
    }
   ],
   "source": [
    "# remove duplicate rows\n",
    "isDuplicated <- duplicated(data1)\n",
    "isDuplicated\n",
    "data1[isDuplicated, ]\n",
    "data1[!isDuplicated, ]"
   ]
  },
  {
   "cell_type": "code",
   "execution_count": 8,
   "id": "7f14e073",
   "metadata": {},
   "outputs": [
    {
     "data": {
      "text/html": [
       "<table>\n",
       "<thead><tr><th scope=col>Col1</th><th scope=col>Col2</th><th scope=col>Col3</th><th scope=col>Col4</th><th scope=col>Col5</th><th scope=col>Col6</th><th scope=col>Col7</th><th scope=col>Label</th></tr></thead>\n",
       "<tbody>\n",
       "\t<tr><td>id1 </td><td>aa  </td><td> 1  </td><td> 0.6</td><td> 2  </td><td> -2 </td><td> 1.3</td><td>lb1 </td></tr>\n",
       "\t<tr><td>id2 </td><td>bb  </td><td> 2  </td><td>  NA</td><td> 4  </td><td> -4 </td><td> 2.8</td><td>lb2 </td></tr>\n",
       "\t<tr><td>id3 </td><td>cc  </td><td> 3  </td><td> 0.4</td><td> 6  </td><td> -6 </td><td>-3.5</td><td>lb2 </td></tr>\n",
       "\t<tr><td>id4 </td><td>aa  </td><td>NA  </td><td>12.0</td><td> 8  </td><td> -8 </td><td> 4.4</td><td>lb1 </td></tr>\n",
       "\t<tr><td>id5 </td><td>cc  </td><td> 5  </td><td> 0.7</td><td>10  </td><td>-10 </td><td> 9.9</td><td>lb2 </td></tr>\n",
       "\t<tr><td>id5 </td><td>cc  </td><td> 5  </td><td> 0.7</td><td>10  </td><td>-10 </td><td> 9.9</td><td>lb2 </td></tr>\n",
       "\t<tr><td>id6 </td><td>dd  </td><td> 6  </td><td> 0.5</td><td>12  </td><td>-12 </td><td>-1.9</td><td>lb2 </td></tr>\n",
       "\t<tr><td>id7 </td><td>bb  </td><td> 7  </td><td>-2.0</td><td>14  </td><td>-14 </td><td> 0.0</td><td>lb2 </td></tr>\n",
       "</tbody>\n",
       "</table>\n"
      ],
      "text/latex": [
       "\\begin{tabular}{r|llllllll}\n",
       " Col1 & Col2 & Col3 & Col4 & Col5 & Col6 & Col7 & Label\\\\\n",
       "\\hline\n",
       "\t id1  & aa   &  1   &  0.6 &  2   &  -2  &  1.3 & lb1 \\\\\n",
       "\t id2  & bb   &  2   &   NA &  4   &  -4  &  2.8 & lb2 \\\\\n",
       "\t id3  & cc   &  3   &  0.4 &  6   &  -6  & -3.5 & lb2 \\\\\n",
       "\t id4  & aa   & NA   & 12.0 &  8   &  -8  &  4.4 & lb1 \\\\\n",
       "\t id5  & cc   &  5   &  0.7 & 10   & -10  &  9.9 & lb2 \\\\\n",
       "\t id5  & cc   &  5   &  0.7 & 10   & -10  &  9.9 & lb2 \\\\\n",
       "\t id6  & dd   &  6   &  0.5 & 12   & -12  & -1.9 & lb2 \\\\\n",
       "\t id7  & bb   &  7   & -2.0 & 14   & -14  &  0.0 & lb2 \\\\\n",
       "\\end{tabular}\n"
      ],
      "text/markdown": [
       "\n",
       "| Col1 | Col2 | Col3 | Col4 | Col5 | Col6 | Col7 | Label |\n",
       "|---|---|---|---|---|---|---|---|\n",
       "| id1  | aa   |  1   |  0.6 |  2   |  -2  |  1.3 | lb1  |\n",
       "| id2  | bb   |  2   |   NA |  4   |  -4  |  2.8 | lb2  |\n",
       "| id3  | cc   |  3   |  0.4 |  6   |  -6  | -3.5 | lb2  |\n",
       "| id4  | aa   | NA   | 12.0 |  8   |  -8  |  4.4 | lb1  |\n",
       "| id5  | cc   |  5   |  0.7 | 10   | -10  |  9.9 | lb2  |\n",
       "| id5  | cc   |  5   |  0.7 | 10   | -10  |  9.9 | lb2  |\n",
       "| id6  | dd   |  6   |  0.5 | 12   | -12  | -1.9 | lb2  |\n",
       "| id7  | bb   |  7   | -2.0 | 14   | -14  |  0.0 | lb2  |\n",
       "\n"
      ],
      "text/plain": [
       "  Col1 Col2 Col3 Col4 Col5 Col6 Col7 Label\n",
       "1 id1  aa    1    0.6  2    -2   1.3 lb1  \n",
       "2 id2  bb    2     NA  4    -4   2.8 lb2  \n",
       "3 id3  cc    3    0.4  6    -6  -3.5 lb2  \n",
       "4 id4  aa   NA   12.0  8    -8   4.4 lb1  \n",
       "5 id5  cc    5    0.7 10   -10   9.9 lb2  \n",
       "6 id5  cc    5    0.7 10   -10   9.9 lb2  \n",
       "7 id6  dd    6    0.5 12   -12  -1.9 lb2  \n",
       "8 id7  bb    7   -2.0 14   -14   0.0 lb2  "
      ]
     },
     "metadata": {},
     "output_type": "display_data"
    }
   ],
   "source": [
    "# Filter by conditions\n",
    "data1"
   ]
  },
  {
   "cell_type": "code",
   "execution_count": 9,
   "id": "6e68fec7",
   "metadata": {},
   "outputs": [
    {
     "data": {
      "text/html": [
       "<table>\n",
       "<thead><tr><th scope=col>Col2aa</th><th scope=col>Col2bb</th><th scope=col>Col2cc</th><th scope=col>Col2dd</th></tr></thead>\n",
       "<tbody>\n",
       "\t<tr><td>1</td><td>0</td><td>0</td><td>0</td></tr>\n",
       "\t<tr><td>0</td><td>1</td><td>0</td><td>0</td></tr>\n",
       "\t<tr><td>0</td><td>0</td><td>1</td><td>0</td></tr>\n",
       "\t<tr><td>1</td><td>0</td><td>0</td><td>0</td></tr>\n",
       "\t<tr><td>0</td><td>0</td><td>1</td><td>0</td></tr>\n",
       "\t<tr><td>0</td><td>0</td><td>1</td><td>0</td></tr>\n",
       "\t<tr><td>0</td><td>0</td><td>0</td><td>1</td></tr>\n",
       "\t<tr><td>0</td><td>1</td><td>0</td><td>0</td></tr>\n",
       "</tbody>\n",
       "</table>\n"
      ],
      "text/latex": [
       "\\begin{tabular}{r|llll}\n",
       " Col2aa & Col2bb & Col2cc & Col2dd\\\\\n",
       "\\hline\n",
       "\t 1 & 0 & 0 & 0\\\\\n",
       "\t 0 & 1 & 0 & 0\\\\\n",
       "\t 0 & 0 & 1 & 0\\\\\n",
       "\t 1 & 0 & 0 & 0\\\\\n",
       "\t 0 & 0 & 1 & 0\\\\\n",
       "\t 0 & 0 & 1 & 0\\\\\n",
       "\t 0 & 0 & 0 & 1\\\\\n",
       "\t 0 & 1 & 0 & 0\\\\\n",
       "\\end{tabular}\n"
      ],
      "text/markdown": [
       "\n",
       "| Col2aa | Col2bb | Col2cc | Col2dd |\n",
       "|---|---|---|---|\n",
       "| 1 | 0 | 0 | 0 |\n",
       "| 0 | 1 | 0 | 0 |\n",
       "| 0 | 0 | 1 | 0 |\n",
       "| 1 | 0 | 0 | 0 |\n",
       "| 0 | 0 | 1 | 0 |\n",
       "| 0 | 0 | 1 | 0 |\n",
       "| 0 | 0 | 0 | 1 |\n",
       "| 0 | 1 | 0 | 0 |\n",
       "\n"
      ],
      "text/plain": [
       "  Col2aa Col2bb Col2cc Col2dd\n",
       "1 1      0      0      0     \n",
       "2 0      1      0      0     \n",
       "3 0      0      1      0     \n",
       "4 1      0      0      0     \n",
       "5 0      0      1      0     \n",
       "6 0      0      1      0     \n",
       "7 0      0      0      1     \n",
       "8 0      1      0      0     "
      ]
     },
     "metadata": {},
     "output_type": "display_data"
    }
   ],
   "source": [
    "# dummy columns\n",
    "model.matrix(~Col2-1,data=data1)"
   ]
  },
  {
   "cell_type": "code",
   "execution_count": 10,
   "id": "5483ce91",
   "metadata": {},
   "outputs": [
    {
     "data": {
      "text/html": [
       "<table>\n",
       "<thead><tr><th scope=col>Col1</th><th scope=col>Col3</th><th scope=col>Col4</th><th scope=col>Col5</th><th scope=col>Col6</th><th scope=col>Col7</th><th scope=col>Label</th><th scope=col>aa</th><th scope=col>bb</th><th scope=col>cc</th><th scope=col>dd</th></tr></thead>\n",
       "<tbody>\n",
       "\t<tr><td>id1 </td><td> 1  </td><td> 0.6</td><td> 2  </td><td> -2 </td><td> 1.3</td><td>lb1 </td><td>1   </td><td>0   </td><td>0   </td><td>0   </td></tr>\n",
       "\t<tr><td>id2 </td><td> 2  </td><td>  NA</td><td> 4  </td><td> -4 </td><td> 2.8</td><td>lb2 </td><td>0   </td><td>1   </td><td>0   </td><td>0   </td></tr>\n",
       "\t<tr><td>id3 </td><td> 3  </td><td> 0.4</td><td> 6  </td><td> -6 </td><td>-3.5</td><td>lb2 </td><td>0   </td><td>0   </td><td>1   </td><td>0   </td></tr>\n",
       "\t<tr><td>id4 </td><td>NA  </td><td>12.0</td><td> 8  </td><td> -8 </td><td> 4.4</td><td>lb1 </td><td>1   </td><td>0   </td><td>0   </td><td>0   </td></tr>\n",
       "\t<tr><td>id5 </td><td> 5  </td><td> 0.7</td><td>10  </td><td>-10 </td><td> 9.9</td><td>lb2 </td><td>0   </td><td>0   </td><td>1   </td><td>0   </td></tr>\n",
       "\t<tr><td>id5 </td><td> 5  </td><td> 0.7</td><td>10  </td><td>-10 </td><td> 9.9</td><td>lb2 </td><td>0   </td><td>0   </td><td>1   </td><td>0   </td></tr>\n",
       "\t<tr><td>id6 </td><td> 6  </td><td> 0.5</td><td>12  </td><td>-12 </td><td>-1.9</td><td>lb2 </td><td>0   </td><td>0   </td><td>0   </td><td>1   </td></tr>\n",
       "\t<tr><td>id7 </td><td> 7  </td><td>-2.0</td><td>14  </td><td>-14 </td><td> 0.0</td><td>lb2 </td><td>0   </td><td>1   </td><td>0   </td><td>0   </td></tr>\n",
       "</tbody>\n",
       "</table>\n"
      ],
      "text/latex": [
       "\\begin{tabular}{r|lllllllllll}\n",
       " Col1 & Col3 & Col4 & Col5 & Col6 & Col7 & Label & aa & bb & cc & dd\\\\\n",
       "\\hline\n",
       "\t id1  &  1   &  0.6 &  2   &  -2  &  1.3 & lb1  & 1    & 0    & 0    & 0   \\\\\n",
       "\t id2  &  2   &   NA &  4   &  -4  &  2.8 & lb2  & 0    & 1    & 0    & 0   \\\\\n",
       "\t id3  &  3   &  0.4 &  6   &  -6  & -3.5 & lb2  & 0    & 0    & 1    & 0   \\\\\n",
       "\t id4  & NA   & 12.0 &  8   &  -8  &  4.4 & lb1  & 1    & 0    & 0    & 0   \\\\\n",
       "\t id5  &  5   &  0.7 & 10   & -10  &  9.9 & lb2  & 0    & 0    & 1    & 0   \\\\\n",
       "\t id5  &  5   &  0.7 & 10   & -10  &  9.9 & lb2  & 0    & 0    & 1    & 0   \\\\\n",
       "\t id6  &  6   &  0.5 & 12   & -12  & -1.9 & lb2  & 0    & 0    & 0    & 1   \\\\\n",
       "\t id7  &  7   & -2.0 & 14   & -14  &  0.0 & lb2  & 0    & 1    & 0    & 0   \\\\\n",
       "\\end{tabular}\n"
      ],
      "text/markdown": [
       "\n",
       "| Col1 | Col3 | Col4 | Col5 | Col6 | Col7 | Label | aa | bb | cc | dd |\n",
       "|---|---|---|---|---|---|---|---|---|---|---|\n",
       "| id1  |  1   |  0.6 |  2   |  -2  |  1.3 | lb1  | 1    | 0    | 0    | 0    |\n",
       "| id2  |  2   |   NA |  4   |  -4  |  2.8 | lb2  | 0    | 1    | 0    | 0    |\n",
       "| id3  |  3   |  0.4 |  6   |  -6  | -3.5 | lb2  | 0    | 0    | 1    | 0    |\n",
       "| id4  | NA   | 12.0 |  8   |  -8  |  4.4 | lb1  | 1    | 0    | 0    | 0    |\n",
       "| id5  |  5   |  0.7 | 10   | -10  |  9.9 | lb2  | 0    | 0    | 1    | 0    |\n",
       "| id5  |  5   |  0.7 | 10   | -10  |  9.9 | lb2  | 0    | 0    | 1    | 0    |\n",
       "| id6  |  6   |  0.5 | 12   | -12  | -1.9 | lb2  | 0    | 0    | 0    | 1    |\n",
       "| id7  |  7   | -2.0 | 14   | -14  |  0.0 | lb2  | 0    | 1    | 0    | 0    |\n",
       "\n"
      ],
      "text/plain": [
       "  Col1 Col3 Col4 Col5 Col6 Col7 Label aa bb cc dd\n",
       "1 id1   1    0.6  2    -2   1.3 lb1   1  0  0  0 \n",
       "2 id2   2     NA  4    -4   2.8 lb2   0  1  0  0 \n",
       "3 id3   3    0.4  6    -6  -3.5 lb2   0  0  1  0 \n",
       "4 id4  NA   12.0  8    -8   4.4 lb1   1  0  0  0 \n",
       "5 id5   5    0.7 10   -10   9.9 lb2   0  0  1  0 \n",
       "6 id5   5    0.7 10   -10   9.9 lb2   0  0  1  0 \n",
       "7 id6   6    0.5 12   -12  -1.9 lb2   0  0  0  1 \n",
       "8 id7   7   -2.0 14   -14   0.0 lb2   0  1  0  0 "
      ]
     },
     "metadata": {},
     "output_type": "display_data"
    }
   ],
   "source": [
    "# Rename columns\n",
    "data2 <- data.frame(data1[, c(\"Col1\", \"Col3\", \"Col4\", \"Col5\", \"Col6\", \"Col7\", \"Label\")], model.matrix(~Col2-1,data=data1))\n",
    "names(data2) <- c(\"Col1\", \"Col3\", \"Col4\", \"Col5\", \"Col6\", \"Col7\", \"Label\", \"aa\", \"bb\", \"cc\", \"dd\")\n",
    "data2"
   ]
  },
  {
   "cell_type": "code",
   "execution_count": 11,
   "id": "8224c875",
   "metadata": {},
   "outputs": [
    {
     "name": "stdout",
     "output_type": "stream",
     "text": [
      " 25%  75% \n",
      "0.45 0.70 \n"
     ]
    },
    {
     "data": {
      "image/png": "[encoded data removed]",
      "text/plain": [
       "plot without title"
      ]
     },
     "metadata": {},
     "output_type": "display_data"
    }
   ],
   "source": [
    "# discover and remove outlier\n",
    "# Create a function to implement removing outlier for a list of elements\n",
    "remove_outliers <- function(col, na_rm = TRUE, ...) {\n",
    "    # Get the quantile statistics\n",
    "    qnt <- quantile(col, probs=c(.25, .75), na.rm = na_rm, ...)\n",
    "    print(qnt)\n",
    "    # Set the removing threshold\n",
    "    thresh <- 1.5 * IQR(col, na.rm = na_rm)\n",
    "    col_new <- col\n",
    "    # Set the elements where its value is out of the threshold\n",
    "    col_new[col < (qnt[1] - thresh)] <- NA\n",
    "    col_new[col > (qnt[2] + thresh)] <- NA\n",
    "    return(col_new)\n",
    "}\n",
    "col_new <- remove_outliers(data1$Col4)\n",
    "# Draw a boxplot to show the result\n",
    "par(mfrow = c(1, 2))\n",
    "boxplot(data2$Col4)\n",
    "boxplot(col_new)"
   ]
  },
  {
   "cell_type": "code",
   "execution_count": 12,
   "id": "ed46e91b",
   "metadata": {},
   "outputs": [
    {
     "data": {
      "text/html": [
       "<table>\n",
       "<thead><tr><th scope=col>Col3</th><th scope=col>Col4</th><th scope=col>Col5</th><th scope=col>Col6</th><th scope=col>Col7</th><th scope=col>Label</th></tr></thead>\n",
       "<tbody>\n",
       "\t<tr><td> 1  </td><td> 0.6</td><td> 2  </td><td> -2 </td><td> 1.3</td><td>lb1 </td></tr>\n",
       "\t<tr><td> 2  </td><td>  NA</td><td> 4  </td><td> -4 </td><td> 2.8</td><td>lb2 </td></tr>\n",
       "\t<tr><td> 3  </td><td> 0.4</td><td> 6  </td><td> -6 </td><td>-3.5</td><td>lb2 </td></tr>\n",
       "\t<tr><td>NA  </td><td>12.0</td><td> 8  </td><td> -8 </td><td> 4.4</td><td>lb1 </td></tr>\n",
       "\t<tr><td> 5  </td><td> 0.7</td><td>10  </td><td>-10 </td><td> 9.9</td><td>lb2 </td></tr>\n",
       "\t<tr><td> 5  </td><td> 0.7</td><td>10  </td><td>-10 </td><td> 9.9</td><td>lb2 </td></tr>\n",
       "\t<tr><td> 6  </td><td> 0.5</td><td>12  </td><td>-12 </td><td>-1.9</td><td>lb2 </td></tr>\n",
       "\t<tr><td> 7  </td><td>-2.0</td><td>14  </td><td>-14 </td><td> 0.0</td><td>lb2 </td></tr>\n",
       "</tbody>\n",
       "</table>\n"
      ],
      "text/latex": [
       "\\begin{tabular}{r|llllll}\n",
       " Col3 & Col4 & Col5 & Col6 & Col7 & Label\\\\\n",
       "\\hline\n",
       "\t  1   &  0.6 &  2   &  -2  &  1.3 & lb1 \\\\\n",
       "\t  2   &   NA &  4   &  -4  &  2.8 & lb2 \\\\\n",
       "\t  3   &  0.4 &  6   &  -6  & -3.5 & lb2 \\\\\n",
       "\t NA   & 12.0 &  8   &  -8  &  4.4 & lb1 \\\\\n",
       "\t  5   &  0.7 & 10   & -10  &  9.9 & lb2 \\\\\n",
       "\t  5   &  0.7 & 10   & -10  &  9.9 & lb2 \\\\\n",
       "\t  6   &  0.5 & 12   & -12  & -1.9 & lb2 \\\\\n",
       "\t  7   & -2.0 & 14   & -14  &  0.0 & lb2 \\\\\n",
       "\\end{tabular}\n"
      ],
      "text/markdown": [
       "\n",
       "| Col3 | Col4 | Col5 | Col6 | Col7 | Label |\n",
       "|---|---|---|---|---|---|\n",
       "|  1   |  0.6 |  2   |  -2  |  1.3 | lb1  |\n",
       "|  2   |   NA |  4   |  -4  |  2.8 | lb2  |\n",
       "|  3   |  0.4 |  6   |  -6  | -3.5 | lb2  |\n",
       "| NA   | 12.0 |  8   |  -8  |  4.4 | lb1  |\n",
       "|  5   |  0.7 | 10   | -10  |  9.9 | lb2  |\n",
       "|  5   |  0.7 | 10   | -10  |  9.9 | lb2  |\n",
       "|  6   |  0.5 | 12   | -12  | -1.9 | lb2  |\n",
       "|  7   | -2.0 | 14   | -14  |  0.0 | lb2  |\n",
       "\n"
      ],
      "text/plain": [
       "  Col3 Col4 Col5 Col6 Col7 Label\n",
       "1  1    0.6  2    -2   1.3 lb1  \n",
       "2  2     NA  4    -4   2.8 lb2  \n",
       "3  3    0.4  6    -6  -3.5 lb2  \n",
       "4 NA   12.0  8    -8   4.4 lb1  \n",
       "5  5    0.7 10   -10   9.9 lb2  \n",
       "6  5    0.7 10   -10   9.9 lb2  \n",
       "7  6    0.5 12   -12  -1.9 lb2  \n",
       "8  7   -2.0 14   -14   0.0 lb2  "
      ]
     },
     "metadata": {},
     "output_type": "display_data"
    },
    {
     "data": {
      "text/html": [
       "<table>\n",
       "<thead><tr><th></th><th scope=col>Col3</th><th scope=col>Col4</th><th scope=col>Col5</th><th scope=col>Col6</th><th scope=col>Col7</th></tr></thead>\n",
       "<tbody>\n",
       "\t<tr><th scope=row>Col3</th><td> 1  </td><td>NA  </td><td>  NA</td><td>  NA</td><td>  NA</td></tr>\n",
       "\t<tr><th scope=row>Col4</th><td>NA  </td><td> 1  </td><td>  NA</td><td>  NA</td><td>  NA</td></tr>\n",
       "\t<tr><th scope=row>Col5</th><td>NA  </td><td>NA  </td><td> 1.0</td><td>-1.0</td><td> 0.1</td></tr>\n",
       "\t<tr><th scope=row>Col6</th><td>NA  </td><td>NA  </td><td>-1.0</td><td> 1.0</td><td>-0.1</td></tr>\n",
       "\t<tr><th scope=row>Col7</th><td>NA  </td><td>NA  </td><td> 0.1</td><td>-0.1</td><td> 1.0</td></tr>\n",
       "</tbody>\n",
       "</table>\n"
      ],
      "text/latex": [
       "\\begin{tabular}{r|lllll}\n",
       "  & Col3 & Col4 & Col5 & Col6 & Col7\\\\\n",
       "\\hline\n",
       "\tCol3 &  1   & NA   &   NA &   NA &   NA\\\\\n",
       "\tCol4 & NA   &  1   &   NA &   NA &   NA\\\\\n",
       "\tCol5 & NA   & NA   &  1.0 & -1.0 &  0.1\\\\\n",
       "\tCol6 & NA   & NA   & -1.0 &  1.0 & -0.1\\\\\n",
       "\tCol7 & NA   & NA   &  0.1 & -0.1 &  1.0\\\\\n",
       "\\end{tabular}\n"
      ],
      "text/markdown": [
       "\n",
       "| <!--/--> | Col3 | Col4 | Col5 | Col6 | Col7 |\n",
       "|---|---|---|---|---|---|\n",
       "| Col3 |  1   | NA   |   NA |   NA |   NA |\n",
       "| Col4 | NA   |  1   |   NA |   NA |   NA |\n",
       "| Col5 | NA   | NA   |  1.0 | -1.0 |  0.1 |\n",
       "| Col6 | NA   | NA   | -1.0 |  1.0 | -0.1 |\n",
       "| Col7 | NA   | NA   |  0.1 | -0.1 |  1.0 |\n",
       "\n"
      ],
      "text/plain": [
       "     Col3 Col4 Col5 Col6 Col7\n",
       "Col3  1   NA     NA   NA   NA\n",
       "Col4 NA    1     NA   NA   NA\n",
       "Col5 NA   NA    1.0 -1.0  0.1\n",
       "Col6 NA   NA   -1.0  1.0 -0.1\n",
       "Col7 NA   NA    0.1 -0.1  1.0"
      ]
     },
     "metadata": {},
     "output_type": "display_data"
    }
   ],
   "source": [
    "# Visit the site below and use the link to download the library\n",
    "# https://anaconda.org/conda-forge/r-corrplot\n",
    "# conda install -c conda-forge r-corrplot\n",
    "\n",
    "# library(\"corrplot\")\n",
    "data1[, c(\"Col3\", \"Col4\", \"Col5\", \"Col6\", \"Col7\", \"Label\")]\n",
    "cormat <- cor(data1[, c(\"Col3\", \"Col4\", \"Col5\", \"Col6\", \"Col7\")])\n",
    "round(cormat, 2)\n",
    "# corrplot(cormat, method = \"circle\", type = \"upper\")"
   ]
  },
  {
   "cell_type": "code",
   "execution_count": 13,
   "id": "4d80a478",
   "metadata": {},
   "outputs": [
    {
     "data": {
      "text/html": [
       "<table>\n",
       "<thead><tr><th scope=col>Col1</th><th scope=col>Col3</th><th scope=col>Col4</th><th scope=col>Col5</th><th scope=col>Col6</th><th scope=col>Col7</th><th scope=col>Label</th><th scope=col>aa</th><th scope=col>bb</th><th scope=col>cc</th><th scope=col>dd</th></tr></thead>\n",
       "<tbody>\n",
       "\t<tr><td>id1 </td><td> 1  </td><td> 0.6</td><td> 2  </td><td> -2 </td><td> 1.3</td><td>lb1 </td><td>1   </td><td>0   </td><td>0   </td><td>0   </td></tr>\n",
       "\t<tr><td>id2 </td><td> 2  </td><td>  NA</td><td> 4  </td><td> -4 </td><td> 2.8</td><td>lb2 </td><td>0   </td><td>1   </td><td>0   </td><td>0   </td></tr>\n",
       "\t<tr><td>id3 </td><td> 3  </td><td> 0.4</td><td> 6  </td><td> -6 </td><td>-3.5</td><td>lb2 </td><td>0   </td><td>0   </td><td>1   </td><td>0   </td></tr>\n",
       "\t<tr><td>id4 </td><td>NA  </td><td>12.0</td><td> 8  </td><td> -8 </td><td> 4.4</td><td>lb1 </td><td>1   </td><td>0   </td><td>0   </td><td>0   </td></tr>\n",
       "\t<tr><td>id5 </td><td> 5  </td><td> 0.7</td><td>10  </td><td>-10 </td><td> 9.9</td><td>lb2 </td><td>0   </td><td>0   </td><td>1   </td><td>0   </td></tr>\n",
       "\t<tr><td>id5 </td><td> 5  </td><td> 0.7</td><td>10  </td><td>-10 </td><td> 9.9</td><td>lb2 </td><td>0   </td><td>0   </td><td>1   </td><td>0   </td></tr>\n",
       "\t<tr><td>id6 </td><td> 6  </td><td> 0.5</td><td>12  </td><td>-12 </td><td>-1.9</td><td>lb2 </td><td>0   </td><td>0   </td><td>0   </td><td>1   </td></tr>\n",
       "\t<tr><td>id7 </td><td> 7  </td><td>-2.0</td><td>14  </td><td>-14 </td><td> 0.0</td><td>lb2 </td><td>0   </td><td>1   </td><td>0   </td><td>0   </td></tr>\n",
       "</tbody>\n",
       "</table>\n"
      ],
      "text/latex": [
       "\\begin{tabular}{r|lllllllllll}\n",
       " Col1 & Col3 & Col4 & Col5 & Col6 & Col7 & Label & aa & bb & cc & dd\\\\\n",
       "\\hline\n",
       "\t id1  &  1   &  0.6 &  2   &  -2  &  1.3 & lb1  & 1    & 0    & 0    & 0   \\\\\n",
       "\t id2  &  2   &   NA &  4   &  -4  &  2.8 & lb2  & 0    & 1    & 0    & 0   \\\\\n",
       "\t id3  &  3   &  0.4 &  6   &  -6  & -3.5 & lb2  & 0    & 0    & 1    & 0   \\\\\n",
       "\t id4  & NA   & 12.0 &  8   &  -8  &  4.4 & lb1  & 1    & 0    & 0    & 0   \\\\\n",
       "\t id5  &  5   &  0.7 & 10   & -10  &  9.9 & lb2  & 0    & 0    & 1    & 0   \\\\\n",
       "\t id5  &  5   &  0.7 & 10   & -10  &  9.9 & lb2  & 0    & 0    & 1    & 0   \\\\\n",
       "\t id6  &  6   &  0.5 & 12   & -12  & -1.9 & lb2  & 0    & 0    & 0    & 1   \\\\\n",
       "\t id7  &  7   & -2.0 & 14   & -14  &  0.0 & lb2  & 0    & 1    & 0    & 0   \\\\\n",
       "\\end{tabular}\n"
      ],
      "text/markdown": [
       "\n",
       "| Col1 | Col3 | Col4 | Col5 | Col6 | Col7 | Label | aa | bb | cc | dd |\n",
       "|---|---|---|---|---|---|---|---|---|---|---|\n",
       "| id1  |  1   |  0.6 |  2   |  -2  |  1.3 | lb1  | 1    | 0    | 0    | 0    |\n",
       "| id2  |  2   |   NA |  4   |  -4  |  2.8 | lb2  | 0    | 1    | 0    | 0    |\n",
       "| id3  |  3   |  0.4 |  6   |  -6  | -3.5 | lb2  | 0    | 0    | 1    | 0    |\n",
       "| id4  | NA   | 12.0 |  8   |  -8  |  4.4 | lb1  | 1    | 0    | 0    | 0    |\n",
       "| id5  |  5   |  0.7 | 10   | -10  |  9.9 | lb2  | 0    | 0    | 1    | 0    |\n",
       "| id5  |  5   |  0.7 | 10   | -10  |  9.9 | lb2  | 0    | 0    | 1    | 0    |\n",
       "| id6  |  6   |  0.5 | 12   | -12  | -1.9 | lb2  | 0    | 0    | 0    | 1    |\n",
       "| id7  |  7   | -2.0 | 14   | -14  |  0.0 | lb2  | 0    | 1    | 0    | 0    |\n",
       "\n"
      ],
      "text/plain": [
       "  Col1 Col3 Col4 Col5 Col6 Col7 Label aa bb cc dd\n",
       "1 id1   1    0.6  2    -2   1.3 lb1   1  0  0  0 \n",
       "2 id2   2     NA  4    -4   2.8 lb2   0  1  0  0 \n",
       "3 id3   3    0.4  6    -6  -3.5 lb2   0  0  1  0 \n",
       "4 id4  NA   12.0  8    -8   4.4 lb1   1  0  0  0 \n",
       "5 id5   5    0.7 10   -10   9.9 lb2   0  0  1  0 \n",
       "6 id5   5    0.7 10   -10   9.9 lb2   0  0  1  0 \n",
       "7 id6   6    0.5 12   -12  -1.9 lb2   0  0  0  1 \n",
       "8 id7   7   -2.0 14   -14   0.0 lb2   0  1  0  0 "
      ]
     },
     "metadata": {},
     "output_type": "display_data"
    }
   ],
   "source": [
    "data2"
   ]
  },
  {
   "cell_type": "code",
   "execution_count": 14,
   "id": "cde5b08d",
   "metadata": {},
   "outputs": [
    {
     "data": {
      "text/html": [
       "<table>\n",
       "<thead><tr><th scope=col>Col3</th><th scope=col>Col4</th><th scope=col>Col5</th><th scope=col>Col6</th><th scope=col>Col7</th><th scope=col>Label</th><th scope=col>aa</th><th scope=col>bb</th><th scope=col>cc</th><th scope=col>dd</th></tr></thead>\n",
       "<tbody>\n",
       "\t<tr><td> 1  </td><td> 0.6</td><td> 2  </td><td> -2 </td><td> 1.3</td><td>lb1 </td><td>1   </td><td>0   </td><td>0   </td><td>0   </td></tr>\n",
       "\t<tr><td> 2  </td><td>  NA</td><td> 4  </td><td> -4 </td><td> 2.8</td><td>lb2 </td><td>0   </td><td>1   </td><td>0   </td><td>0   </td></tr>\n",
       "\t<tr><td> 3  </td><td> 0.4</td><td> 6  </td><td> -6 </td><td>-3.5</td><td>lb2 </td><td>0   </td><td>0   </td><td>1   </td><td>0   </td></tr>\n",
       "\t<tr><td>NA  </td><td>12.0</td><td> 8  </td><td> -8 </td><td> 4.4</td><td>lb1 </td><td>1   </td><td>0   </td><td>0   </td><td>0   </td></tr>\n",
       "\t<tr><td> 5  </td><td> 0.7</td><td>10  </td><td>-10 </td><td> 9.9</td><td>lb2 </td><td>0   </td><td>0   </td><td>1   </td><td>0   </td></tr>\n",
       "\t<tr><td> 5  </td><td> 0.7</td><td>10  </td><td>-10 </td><td> 9.9</td><td>lb2 </td><td>0   </td><td>0   </td><td>1   </td><td>0   </td></tr>\n",
       "\t<tr><td> 6  </td><td> 0.5</td><td>12  </td><td>-12 </td><td>-1.9</td><td>lb2 </td><td>0   </td><td>0   </td><td>0   </td><td>1   </td></tr>\n",
       "\t<tr><td> 7  </td><td>-2.0</td><td>14  </td><td>-14 </td><td> 0.0</td><td>lb2 </td><td>0   </td><td>1   </td><td>0   </td><td>0   </td></tr>\n",
       "</tbody>\n",
       "</table>\n"
      ],
      "text/latex": [
       "\\begin{tabular}{r|llllllllll}\n",
       " Col3 & Col4 & Col5 & Col6 & Col7 & Label & aa & bb & cc & dd\\\\\n",
       "\\hline\n",
       "\t  1   &  0.6 &  2   &  -2  &  1.3 & lb1  & 1    & 0    & 0    & 0   \\\\\n",
       "\t  2   &   NA &  4   &  -4  &  2.8 & lb2  & 0    & 1    & 0    & 0   \\\\\n",
       "\t  3   &  0.4 &  6   &  -6  & -3.5 & lb2  & 0    & 0    & 1    & 0   \\\\\n",
       "\t NA   & 12.0 &  8   &  -8  &  4.4 & lb1  & 1    & 0    & 0    & 0   \\\\\n",
       "\t  5   &  0.7 & 10   & -10  &  9.9 & lb2  & 0    & 0    & 1    & 0   \\\\\n",
       "\t  5   &  0.7 & 10   & -10  &  9.9 & lb2  & 0    & 0    & 1    & 0   \\\\\n",
       "\t  6   &  0.5 & 12   & -12  & -1.9 & lb2  & 0    & 0    & 0    & 1   \\\\\n",
       "\t  7   & -2.0 & 14   & -14  &  0.0 & lb2  & 0    & 1    & 0    & 0   \\\\\n",
       "\\end{tabular}\n"
      ],
      "text/markdown": [
       "\n",
       "| Col3 | Col4 | Col5 | Col6 | Col7 | Label | aa | bb | cc | dd |\n",
       "|---|---|---|---|---|---|---|---|---|---|\n",
       "|  1   |  0.6 |  2   |  -2  |  1.3 | lb1  | 1    | 0    | 0    | 0    |\n",
       "|  2   |   NA |  4   |  -4  |  2.8 | lb2  | 0    | 1    | 0    | 0    |\n",
       "|  3   |  0.4 |  6   |  -6  | -3.5 | lb2  | 0    | 0    | 1    | 0    |\n",
       "| NA   | 12.0 |  8   |  -8  |  4.4 | lb1  | 1    | 0    | 0    | 0    |\n",
       "|  5   |  0.7 | 10   | -10  |  9.9 | lb2  | 0    | 0    | 1    | 0    |\n",
       "|  5   |  0.7 | 10   | -10  |  9.9 | lb2  | 0    | 0    | 1    | 0    |\n",
       "|  6   |  0.5 | 12   | -12  | -1.9 | lb2  | 0    | 0    | 0    | 1    |\n",
       "|  7   | -2.0 | 14   | -14  |  0.0 | lb2  | 0    | 1    | 0    | 0    |\n",
       "\n"
      ],
      "text/plain": [
       "  Col3 Col4 Col5 Col6 Col7 Label aa bb cc dd\n",
       "1  1    0.6  2    -2   1.3 lb1   1  0  0  0 \n",
       "2  2     NA  4    -4   2.8 lb2   0  1  0  0 \n",
       "3  3    0.4  6    -6  -3.5 lb2   0  0  1  0 \n",
       "4 NA   12.0  8    -8   4.4 lb1   1  0  0  0 \n",
       "5  5    0.7 10   -10   9.9 lb2   0  0  1  0 \n",
       "6  5    0.7 10   -10   9.9 lb2   0  0  1  0 \n",
       "7  6    0.5 12   -12  -1.9 lb2   0  0  0  1 \n",
       "8  7   -2.0 14   -14   0.0 lb2   0  1  0  0 "
      ]
     },
     "metadata": {},
     "output_type": "display_data"
    },
    {
     "data": {
      "text/html": [
       "<table>\n",
       "<thead><tr><th scope=col>Col3</th><th scope=col>Col4</th><th scope=col>Col5</th><th scope=col>Col6</th><th scope=col>Col7</th><th scope=col>Label</th><th scope=col>aa</th><th scope=col>bb</th><th scope=col>cc</th><th scope=col>dd</th></tr></thead>\n",
       "<tbody>\n",
       "\t<tr><td> 1  </td><td> 0.6</td><td> 2  </td><td> -2 </td><td> 1.3</td><td>lb1 </td><td>1   </td><td>0   </td><td>0   </td><td>0   </td></tr>\n",
       "\t<tr><td> 2  </td><td>  NA</td><td> 4  </td><td> -4 </td><td> 2.8</td><td>lb2 </td><td>0   </td><td>1   </td><td>0   </td><td>0   </td></tr>\n",
       "\t<tr><td> 3  </td><td> 0.4</td><td> 6  </td><td> -6 </td><td>-3.5</td><td>lb2 </td><td>0   </td><td>0   </td><td>1   </td><td>0   </td></tr>\n",
       "\t<tr><td>NA  </td><td>12.0</td><td> 8  </td><td> -8 </td><td> 4.4</td><td>lb1 </td><td>1   </td><td>0   </td><td>0   </td><td>0   </td></tr>\n",
       "\t<tr><td> 5  </td><td> 0.7</td><td>10  </td><td>-10 </td><td> 9.9</td><td>lb2 </td><td>0   </td><td>0   </td><td>1   </td><td>0   </td></tr>\n",
       "\t<tr><td> 5  </td><td> 0.7</td><td>10  </td><td>-10 </td><td> 9.9</td><td>lb2 </td><td>0   </td><td>0   </td><td>1   </td><td>0   </td></tr>\n",
       "\t<tr><td> 6  </td><td> 0.5</td><td>12  </td><td>-12 </td><td>-1.9</td><td>lb2 </td><td>0   </td><td>0   </td><td>0   </td><td>1   </td></tr>\n",
       "\t<tr><td> 7  </td><td>-2.0</td><td>14  </td><td>-14 </td><td> 0.0</td><td>lb2 </td><td>0   </td><td>1   </td><td>0   </td><td>0   </td></tr>\n",
       "</tbody>\n",
       "</table>\n"
      ],
      "text/latex": [
       "\\begin{tabular}{r|llllllllll}\n",
       " Col3 & Col4 & Col5 & Col6 & Col7 & Label & aa & bb & cc & dd\\\\\n",
       "\\hline\n",
       "\t  1   &  0.6 &  2   &  -2  &  1.3 & lb1  & 1    & 0    & 0    & 0   \\\\\n",
       "\t  2   &   NA &  4   &  -4  &  2.8 & lb2  & 0    & 1    & 0    & 0   \\\\\n",
       "\t  3   &  0.4 &  6   &  -6  & -3.5 & lb2  & 0    & 0    & 1    & 0   \\\\\n",
       "\t NA   & 12.0 &  8   &  -8  &  4.4 & lb1  & 1    & 0    & 0    & 0   \\\\\n",
       "\t  5   &  0.7 & 10   & -10  &  9.9 & lb2  & 0    & 0    & 1    & 0   \\\\\n",
       "\t  5   &  0.7 & 10   & -10  &  9.9 & lb2  & 0    & 0    & 1    & 0   \\\\\n",
       "\t  6   &  0.5 & 12   & -12  & -1.9 & lb2  & 0    & 0    & 0    & 1   \\\\\n",
       "\t  7   & -2.0 & 14   & -14  &  0.0 & lb2  & 0    & 1    & 0    & 0   \\\\\n",
       "\\end{tabular}\n"
      ],
      "text/markdown": [
       "\n",
       "| Col3 | Col4 | Col5 | Col6 | Col7 | Label | aa | bb | cc | dd |\n",
       "|---|---|---|---|---|---|---|---|---|---|\n",
       "|  1   |  0.6 |  2   |  -2  |  1.3 | lb1  | 1    | 0    | 0    | 0    |\n",
       "|  2   |   NA |  4   |  -4  |  2.8 | lb2  | 0    | 1    | 0    | 0    |\n",
       "|  3   |  0.4 |  6   |  -6  | -3.5 | lb2  | 0    | 0    | 1    | 0    |\n",
       "| NA   | 12.0 |  8   |  -8  |  4.4 | lb1  | 1    | 0    | 0    | 0    |\n",
       "|  5   |  0.7 | 10   | -10  |  9.9 | lb2  | 0    | 0    | 1    | 0    |\n",
       "|  5   |  0.7 | 10   | -10  |  9.9 | lb2  | 0    | 0    | 1    | 0    |\n",
       "|  6   |  0.5 | 12   | -12  | -1.9 | lb2  | 0    | 0    | 0    | 1    |\n",
       "|  7   | -2.0 | 14   | -14  |  0.0 | lb2  | 0    | 1    | 0    | 0    |\n",
       "\n"
      ],
      "text/plain": [
       "  Col3 Col4 Col5 Col6 Col7 Label aa bb cc dd\n",
       "1  1    0.6  2    -2   1.3 lb1   1  0  0  0 \n",
       "2  2     NA  4    -4   2.8 lb2   0  1  0  0 \n",
       "3  3    0.4  6    -6  -3.5 lb2   0  0  1  0 \n",
       "4 NA   12.0  8    -8   4.4 lb1   1  0  0  0 \n",
       "5  5    0.7 10   -10   9.9 lb2   0  0  1  0 \n",
       "6  5    0.7 10   -10   9.9 lb2   0  0  1  0 \n",
       "7  6    0.5 12   -12  -1.9 lb2   0  0  0  1 \n",
       "8  7   -2.0 14   -14   0.0 lb2   0  1  0  0 "
      ]
     },
     "metadata": {},
     "output_type": "display_data"
    }
   ],
   "source": [
    "# remove the first ID column\n",
    "data2[, -1] # method1\n",
    "data2[, -c(1)] # method2, same result\n",
    "model_data <- data2[, -1]"
   ]
  },
  {
   "cell_type": "code",
   "execution_count": 15,
   "id": "26a2cc45",
   "metadata": {},
   "outputs": [
    {
     "data": {
      "text/html": [
       "<table>\n",
       "<thead><tr><th></th><th scope=col>Col3</th><th scope=col>Col4</th><th scope=col>Col5</th><th scope=col>Col6</th><th scope=col>Col7</th><th scope=col>Label</th><th scope=col>aa</th><th scope=col>bb</th><th scope=col>cc</th><th scope=col>dd</th></tr></thead>\n",
       "<tbody>\n",
       "\t<tr><th scope=row>1</th><td>1   </td><td> 0.6</td><td> 2  </td><td> -2 </td><td> 1.3</td><td>lb1 </td><td>1   </td><td>0   </td><td>0   </td><td>0   </td></tr>\n",
       "\t<tr><th scope=row>3</th><td>3   </td><td> 0.4</td><td> 6  </td><td> -6 </td><td>-3.5</td><td>lb2 </td><td>0   </td><td>0   </td><td>1   </td><td>0   </td></tr>\n",
       "\t<tr><th scope=row>5</th><td>5   </td><td> 0.7</td><td>10  </td><td>-10 </td><td> 9.9</td><td>lb2 </td><td>0   </td><td>0   </td><td>1   </td><td>0   </td></tr>\n",
       "\t<tr><th scope=row>7</th><td>6   </td><td> 0.5</td><td>12  </td><td>-12 </td><td>-1.9</td><td>lb2 </td><td>0   </td><td>0   </td><td>0   </td><td>1   </td></tr>\n",
       "\t<tr><th scope=row>8</th><td>7   </td><td>-2.0</td><td>14  </td><td>-14 </td><td> 0.0</td><td>lb2 </td><td>0   </td><td>1   </td><td>0   </td><td>0   </td></tr>\n",
       "</tbody>\n",
       "</table>\n"
      ],
      "text/latex": [
       "\\begin{tabular}{r|llllllllll}\n",
       "  & Col3 & Col4 & Col5 & Col6 & Col7 & Label & aa & bb & cc & dd\\\\\n",
       "\\hline\n",
       "\t1 & 1    &  0.6 &  2   &  -2  &  1.3 & lb1  & 1    & 0    & 0    & 0   \\\\\n",
       "\t3 & 3    &  0.4 &  6   &  -6  & -3.5 & lb2  & 0    & 0    & 1    & 0   \\\\\n",
       "\t5 & 5    &  0.7 & 10   & -10  &  9.9 & lb2  & 0    & 0    & 1    & 0   \\\\\n",
       "\t7 & 6    &  0.5 & 12   & -12  & -1.9 & lb2  & 0    & 0    & 0    & 1   \\\\\n",
       "\t8 & 7    & -2.0 & 14   & -14  &  0.0 & lb2  & 0    & 1    & 0    & 0   \\\\\n",
       "\\end{tabular}\n"
      ],
      "text/markdown": [
       "\n",
       "| <!--/--> | Col3 | Col4 | Col5 | Col6 | Col7 | Label | aa | bb | cc | dd |\n",
       "|---|---|---|---|---|---|---|---|---|---|---|\n",
       "| 1 | 1    |  0.6 |  2   |  -2  |  1.3 | lb1  | 1    | 0    | 0    | 0    |\n",
       "| 3 | 3    |  0.4 |  6   |  -6  | -3.5 | lb2  | 0    | 0    | 1    | 0    |\n",
       "| 5 | 5    |  0.7 | 10   | -10  |  9.9 | lb2  | 0    | 0    | 1    | 0    |\n",
       "| 7 | 6    |  0.5 | 12   | -12  | -1.9 | lb2  | 0    | 0    | 0    | 1    |\n",
       "| 8 | 7    | -2.0 | 14   | -14  |  0.0 | lb2  | 0    | 1    | 0    | 0    |\n",
       "\n"
      ],
      "text/plain": [
       "  Col3 Col4 Col5 Col6 Col7 Label aa bb cc dd\n",
       "1 1     0.6  2    -2   1.3 lb1   1  0  0  0 \n",
       "3 3     0.4  6    -6  -3.5 lb2   0  0  1  0 \n",
       "5 5     0.7 10   -10   9.9 lb2   0  0  1  0 \n",
       "7 6     0.5 12   -12  -1.9 lb2   0  0  0  1 \n",
       "8 7    -2.0 14   -14   0.0 lb2   0  1  0  0 "
      ]
     },
     "metadata": {},
     "output_type": "display_data"
    }
   ],
   "source": [
    "model_data <- na.omit(model_data)\n",
    "model_data <- model_data[!duplicated(model_data),]\n",
    "model_data"
   ]
  },
  {
   "cell_type": "code",
   "execution_count": 16,
   "id": "715571da",
   "metadata": {},
   "outputs": [
    {
     "data": {
      "image/png": "[encoded data removed]",
      "text/plain": [
       "plot without title"
      ]
     },
     "metadata": {},
     "output_type": "display_data"
    }
   ],
   "source": [
    "# Convert columns to numeric type\n",
    "model_data$Col3 <- as.numeric(model_data$Col3)\n",
    "model_data$Col4 <- as.numeric(model_data$Col4)\n",
    "model_data$Col5 <- as.numeric(model_data$Col5)\n",
    "model_data$Col6 <- as.numeric(model_data$Col6)\n",
    "model_data$Col7 <- as.numeric(model_data$Col7)\n",
    "model_data$aa <- as.numeric(model_data$aa)\n",
    "model_data$bb <- as.numeric(model_data$bb)\n",
    "model_data$cc <- as.numeric(model_data$cc)\n",
    "model_data$dd <- as.numeric(model_data$dd)\n",
    "\n",
    "# set group for labels\n",
    "labels <- NA\n",
    "labels[model_data$Label==\"lb1\"] <- 1\n",
    "labels[model_data$Label==\"lb2\"] <- 2\n",
    "\n",
    "# Plot\n",
    "pairs(~Col3+Col4+Col5+Col6+Col7+aa+bb,data=model_data, \n",
    "      main=\"Simple Scatterplot Matrix\", \n",
    "      labels=c(1, 2, 3, 4, 5 ,6 , 7),\n",
    "      col=c(\"red\", \"blue\")[labels])"
   ]
  },
  {
   "cell_type": "code",
   "execution_count": 38,
   "id": "9632e611",
   "metadata": {},
   "outputs": [
    {
     "data": {
      "text/html": [
       "<ol class=list-inline>\n",
       "\t<li>1</li>\n",
       "\t<li>1</li>\n",
       "\t<li>2</li>\n",
       "\t<li>2</li>\n",
       "\t<li>2</li>\n",
       "\t<li>2</li>\n",
       "</ol>\n"
      ],
      "text/latex": [
       "\\begin{enumerate*}\n",
       "\\item 1\n",
       "\\item 1\n",
       "\\item 2\n",
       "\\item 2\n",
       "\\item 2\n",
       "\\item 2\n",
       "\\end{enumerate*}\n"
      ],
      "text/markdown": [
       "1. 1\n",
       "2. 1\n",
       "3. 2\n",
       "4. 2\n",
       "5. 2\n",
       "6. 2\n",
       "\n",
       "\n"
      ],
      "text/plain": [
       "[1] 1 1 2 2 2 2"
      ]
     },
     "metadata": {},
     "output_type": "display_data"
    },
    {
     "data": {
      "text/html": [
       "<table>\n",
       "<thead><tr><th></th><th scope=col>Col3</th><th scope=col>Col4</th><th scope=col>Col5</th><th scope=col>Col6</th><th scope=col>Col7</th><th scope=col>Label</th><th scope=col>aa</th><th scope=col>bb</th><th scope=col>cc</th><th scope=col>dd</th></tr></thead>\n",
       "<tbody>\n",
       "\t<tr><th scope=row>1</th><td>1   </td><td> 0.6</td><td> 2  </td><td> -2 </td><td> 1.3</td><td>lb1 </td><td>1   </td><td>0   </td><td>0   </td><td>0   </td></tr>\n",
       "\t<tr><th scope=row>3</th><td>3   </td><td> 0.4</td><td> 6  </td><td> -6 </td><td>-3.5</td><td>lb2 </td><td>0   </td><td>0   </td><td>1   </td><td>0   </td></tr>\n",
       "\t<tr><th scope=row>4</th><td>4   </td><td>12.0</td><td> 8  </td><td> -8 </td><td> 4.4</td><td>lb1 </td><td>1   </td><td>0   </td><td>0   </td><td>0   </td></tr>\n",
       "\t<tr><th scope=row>5</th><td>5   </td><td> 0.7</td><td>10  </td><td>-10 </td><td> 9.9</td><td>lb2 </td><td>0   </td><td>0   </td><td>1   </td><td>0   </td></tr>\n",
       "\t<tr><th scope=row>7</th><td>6   </td><td> 0.5</td><td>12  </td><td>-12 </td><td>-1.9</td><td>lb2 </td><td>0   </td><td>0   </td><td>0   </td><td>1   </td></tr>\n",
       "\t<tr><th scope=row>8</th><td>7   </td><td>-2.0</td><td>14  </td><td>-14 </td><td> 0.0</td><td>lb2 </td><td>0   </td><td>1   </td><td>0   </td><td>0   </td></tr>\n",
       "</tbody>\n",
       "</table>\n"
      ],
      "text/latex": [
       "\\begin{tabular}{r|llllllllll}\n",
       "  & Col3 & Col4 & Col5 & Col6 & Col7 & Label & aa & bb & cc & dd\\\\\n",
       "\\hline\n",
       "\t1 & 1    &  0.6 &  2   &  -2  &  1.3 & lb1  & 1    & 0    & 0    & 0   \\\\\n",
       "\t3 & 3    &  0.4 &  6   &  -6  & -3.5 & lb2  & 0    & 0    & 1    & 0   \\\\\n",
       "\t4 & 4    & 12.0 &  8   &  -8  &  4.4 & lb1  & 1    & 0    & 0    & 0   \\\\\n",
       "\t5 & 5    &  0.7 & 10   & -10  &  9.9 & lb2  & 0    & 0    & 1    & 0   \\\\\n",
       "\t7 & 6    &  0.5 & 12   & -12  & -1.9 & lb2  & 0    & 0    & 0    & 1   \\\\\n",
       "\t8 & 7    & -2.0 & 14   & -14  &  0.0 & lb2  & 0    & 1    & 0    & 0   \\\\\n",
       "\\end{tabular}\n"
      ],
      "text/markdown": [
       "\n",
       "| <!--/--> | Col3 | Col4 | Col5 | Col6 | Col7 | Label | aa | bb | cc | dd |\n",
       "|---|---|---|---|---|---|---|---|---|---|---|\n",
       "| 1 | 1    |  0.6 |  2   |  -2  |  1.3 | lb1  | 1    | 0    | 0    | 0    |\n",
       "| 3 | 3    |  0.4 |  6   |  -6  | -3.5 | lb2  | 0    | 0    | 1    | 0    |\n",
       "| 4 | 4    | 12.0 |  8   |  -8  |  4.4 | lb1  | 1    | 0    | 0    | 0    |\n",
       "| 5 | 5    |  0.7 | 10   | -10  |  9.9 | lb2  | 0    | 0    | 1    | 0    |\n",
       "| 7 | 6    |  0.5 | 12   | -12  | -1.9 | lb2  | 0    | 0    | 0    | 1    |\n",
       "| 8 | 7    | -2.0 | 14   | -14  |  0.0 | lb2  | 0    | 1    | 0    | 0    |\n",
       "\n"
      ],
      "text/plain": [
       "  Col3 Col4 Col5 Col6 Col7 Label aa bb cc dd\n",
       "1 1     0.6  2    -2   1.3 lb1   1  0  0  0 \n",
       "3 3     0.4  6    -6  -3.5 lb2   0  0  1  0 \n",
       "4 4    12.0  8    -8   4.4 lb1   1  0  0  0 \n",
       "5 5     0.7 10   -10   9.9 lb2   0  0  1  0 \n",
       "7 6     0.5 12   -12  -1.9 lb2   0  0  0  1 \n",
       "8 7    -2.0 14   -14   0.0 lb2   0  1  0  0 "
      ]
     },
     "metadata": {},
     "output_type": "display_data"
    },
    {
     "data": {
      "text/html": [
       "<table>\n",
       "<thead><tr><th></th><th scope=col>Col3</th><th scope=col>Col4</th><th scope=col>Col5</th><th scope=col>Col6</th><th scope=col>Col7</th><th scope=col>Label</th><th scope=col>aa</th><th scope=col>bb</th><th scope=col>cc</th><th scope=col>dd</th></tr></thead>\n",
       "<tbody>\n",
       "\t<tr><th scope=row>4</th><td>4   </td><td>12.0</td><td> 8  </td><td> -8 </td><td> 4.4</td><td>lb1 </td><td>1   </td><td>0   </td><td>0   </td><td>0   </td></tr>\n",
       "\t<tr><th scope=row>5</th><td>5   </td><td> 0.7</td><td>10  </td><td>-10 </td><td> 9.9</td><td>lb2 </td><td>0   </td><td>0   </td><td>1   </td><td>0   </td></tr>\n",
       "\t<tr><th scope=row>7</th><td>6   </td><td> 0.5</td><td>12  </td><td>-12 </td><td>-1.9</td><td>lb2 </td><td>0   </td><td>0   </td><td>0   </td><td>1   </td></tr>\n",
       "\t<tr><th scope=row>8</th><td>7   </td><td>-2.0</td><td>14  </td><td>-14 </td><td> 0.0</td><td>lb2 </td><td>0   </td><td>1   </td><td>0   </td><td>0   </td></tr>\n",
       "</tbody>\n",
       "</table>\n"
      ],
      "text/latex": [
       "\\begin{tabular}{r|llllllllll}\n",
       "  & Col3 & Col4 & Col5 & Col6 & Col7 & Label & aa & bb & cc & dd\\\\\n",
       "\\hline\n",
       "\t4 & 4    & 12.0 &  8   &  -8  &  4.4 & lb1  & 1    & 0    & 0    & 0   \\\\\n",
       "\t5 & 5    &  0.7 & 10   & -10  &  9.9 & lb2  & 0    & 0    & 1    & 0   \\\\\n",
       "\t7 & 6    &  0.5 & 12   & -12  & -1.9 & lb2  & 0    & 0    & 0    & 1   \\\\\n",
       "\t8 & 7    & -2.0 & 14   & -14  &  0.0 & lb2  & 0    & 1    & 0    & 0   \\\\\n",
       "\\end{tabular}\n"
      ],
      "text/markdown": [
       "\n",
       "| <!--/--> | Col3 | Col4 | Col5 | Col6 | Col7 | Label | aa | bb | cc | dd |\n",
       "|---|---|---|---|---|---|---|---|---|---|---|\n",
       "| 4 | 4    | 12.0 |  8   |  -8  |  4.4 | lb1  | 1    | 0    | 0    | 0    |\n",
       "| 5 | 5    |  0.7 | 10   | -10  |  9.9 | lb2  | 0    | 0    | 1    | 0    |\n",
       "| 7 | 6    |  0.5 | 12   | -12  | -1.9 | lb2  | 0    | 0    | 0    | 1    |\n",
       "| 8 | 7    | -2.0 | 14   | -14  |  0.0 | lb2  | 0    | 1    | 0    | 0    |\n",
       "\n"
      ],
      "text/plain": [
       "  Col3 Col4 Col5 Col6 Col7 Label aa bb cc dd\n",
       "4 4    12.0  8    -8   4.4 lb1   1  0  0  0 \n",
       "5 5     0.7 10   -10   9.9 lb2   0  0  1  0 \n",
       "7 6     0.5 12   -12  -1.9 lb2   0  0  0  1 \n",
       "8 7    -2.0 14   -14   0.0 lb2   0  1  0  0 "
      ]
     },
     "metadata": {},
     "output_type": "display_data"
    },
    {
     "data": {
      "text/html": [
       "<table>\n",
       "<thead><tr><th></th><th scope=col>Col3</th><th scope=col>Col4</th><th scope=col>Col5</th><th scope=col>Col6</th><th scope=col>Col7</th><th scope=col>Label</th><th scope=col>aa</th><th scope=col>bb</th><th scope=col>cc</th><th scope=col>dd</th></tr></thead>\n",
       "<tbody>\n",
       "\t<tr><th scope=row>1</th><td>1   </td><td>0.6 </td><td>2   </td><td>-2  </td><td> 1.3</td><td>lb1 </td><td>1   </td><td>0   </td><td>0   </td><td>0   </td></tr>\n",
       "\t<tr><th scope=row>3</th><td>3   </td><td>0.4 </td><td>6   </td><td>-6  </td><td>-3.5</td><td>lb2 </td><td>0   </td><td>0   </td><td>1   </td><td>0   </td></tr>\n",
       "</tbody>\n",
       "</table>\n"
      ],
      "text/latex": [
       "\\begin{tabular}{r|llllllllll}\n",
       "  & Col3 & Col4 & Col5 & Col6 & Col7 & Label & aa & bb & cc & dd\\\\\n",
       "\\hline\n",
       "\t1 & 1    & 0.6  & 2    & -2   &  1.3 & lb1  & 1    & 0    & 0    & 0   \\\\\n",
       "\t3 & 3    & 0.4  & 6    & -6   & -3.5 & lb2  & 0    & 0    & 1    & 0   \\\\\n",
       "\\end{tabular}\n"
      ],
      "text/markdown": [
       "\n",
       "| <!--/--> | Col3 | Col4 | Col5 | Col6 | Col7 | Label | aa | bb | cc | dd |\n",
       "|---|---|---|---|---|---|---|---|---|---|---|\n",
       "| 1 | 1    | 0.6  | 2    | -2   |  1.3 | lb1  | 1    | 0    | 0    | 0    |\n",
       "| 3 | 3    | 0.4  | 6    | -6   | -3.5 | lb2  | 0    | 0    | 1    | 0    |\n",
       "\n"
      ],
      "text/plain": [
       "  Col3 Col4 Col5 Col6 Col7 Label aa bb cc dd\n",
       "1 1    0.6  2    -2    1.3 lb1   1  0  0  0 \n",
       "3 3    0.4  6    -6   -3.5 lb2   0  0  1  0 "
      ]
     },
     "metadata": {},
     "output_type": "display_data"
    }
   ],
   "source": [
    "model_data\n",
    "# split dataset\n",
    "trainset <- model_data[c(3:6),]\n",
    "testset <- model_data[1:2,]\n",
    "trainset\n",
    "testset\n",
    "\n",
    "# Split dataset\n",
    "# https://www.r-bloggers.com/2021/05/linear-discriminant-analysis-in-r/\n",
    "# set.seed(494821)\n",
    "# ind <- sample(2, nrow(model_data), replace=TRUE, prob=c(0.6, 0.4))\n",
    "# ind\n",
    "# trainset <- model_data[ind==1,]\n",
    "# testset <- model_data[ind==2,]"
   ]
  },
  {
   "cell_type": "code",
   "execution_count": 18,
   "id": "ab5f2135",
   "metadata": {},
   "outputs": [
    {
     "ename": "ERROR",
     "evalue": "Error in knn(trainX, testX, cl = trainY, k = 2): no missing values are allowed\n",
     "output_type": "error",
     "traceback": [
      "Error in knn(trainX, testX, cl = trainY, k = 2): no missing values are allowed\nTraceback:\n",
      "1. knn(trainX, testX, cl = trainY, k = 2)",
      "2. stop(\"no missing values are allowed\")"
     ]
    }
   ],
   "source": [
    "library(\"class\")\n",
    "\n",
    "trainX <- trainset[,names(trainset)[names(trainset)!=\"Label\"]]\n",
    "trainY <- trainset[,names(trainset)[names(trainset)==\"Label\"]]\n",
    "testX <- testset[,names(testset)[names(testset)!=\"Label\"]]\n",
    "testY <- testset[,names(testset)[names(testset)==\"Label\"]]\n",
    "res <- knn(trainX, testX, cl=trainY, k=2)\n",
    "as.character(res)"
   ]
  },
  {
   "cell_type": "code",
   "execution_count": 19,
   "id": "53269bc2",
   "metadata": {},
   "outputs": [
    {
     "ename": "ERROR",
     "evalue": "Error in eval(expr, envir, enclos): object 'res' not found\n",
     "output_type": "error",
     "traceback": [
      "Error in eval(expr, envir, enclos): object 'res' not found\nTraceback:\n"
     ]
    }
   ],
   "source": [
    "# Calculte metrics, acc\n",
    "acc <- 100 * sum(testY == as.character(res))/NROW(testY)\n",
    "cat(\"Accuracy is:\", acc, \"%\")"
   ]
  },
  {
   "cell_type": "code",
   "execution_count": 364,
   "id": "f6697af6",
   "metadata": {},
   "outputs": [
    {
     "data": {
      "text/plain": [
       "     testY\n",
       "      lb1 lb2\n",
       "  lb2   1   1"
      ]
     },
     "metadata": {},
     "output_type": "display_data"
    }
   ],
   "source": [
    "# Confusion matrix\n",
    "confusionMat <- table(as.character(res), testY)\n",
    "confusionMat"
   ]
  },
  {
   "cell_type": "code",
   "execution_count": 23,
   "id": "9f9b39f8",
   "metadata": {},
   "outputs": [
    {
     "name": "stderr",
     "output_type": "stream",
     "text": [
      "Parsed with column specification:\n",
      "cols(\n",
      "  Col1 = col_character(),\n",
      "  Col2 = col_character(),\n",
      "  Col3 = col_double(),\n",
      "  Col4 = col_double(),\n",
      "  Col5 = col_double(),\n",
      "  Col6 = col_double(),\n",
      "  Col7 = col_double(),\n",
      "  Label = col_character()\n",
      ")\n"
     ]
    },
    {
     "data": {
      "text/html": [
       "<table>\n",
       "<thead><tr><th scope=col>Col1</th><th scope=col>Col2</th><th scope=col>Col3</th><th scope=col>Col4</th><th scope=col>Col5</th><th scope=col>Col6</th><th scope=col>Col7</th><th scope=col>Label</th></tr></thead>\n",
       "<tbody>\n",
       "\t<tr><td>id1 </td><td>aa  </td><td>1   </td><td> 0.6</td><td> 2  </td><td> -2 </td><td> 1.3</td><td>lb1 </td></tr>\n",
       "\t<tr><td>id2 </td><td>bb  </td><td>2   </td><td>  NA</td><td> 4  </td><td> -4 </td><td> 2.8</td><td>lb2 </td></tr>\n",
       "\t<tr><td>id3 </td><td>cc  </td><td>3   </td><td> 0.4</td><td> 6  </td><td> -6 </td><td>-3.5</td><td>lb2 </td></tr>\n",
       "\t<tr><td>id4 </td><td>aa  </td><td>4   </td><td>12.0</td><td> 8  </td><td> -8 </td><td> 4.4</td><td>lb1 </td></tr>\n",
       "\t<tr><td>id5 </td><td>cc  </td><td>5   </td><td> 0.7</td><td>10  </td><td>-10 </td><td> 9.9</td><td>lb2 </td></tr>\n",
       "\t<tr><td>id5 </td><td>cc  </td><td>5   </td><td> 0.7</td><td>10  </td><td>-10 </td><td> 9.9</td><td>lb2 </td></tr>\n",
       "\t<tr><td>id6 </td><td>dd  </td><td>6   </td><td> 0.5</td><td>12  </td><td>-12 </td><td>-1.9</td><td>lb2 </td></tr>\n",
       "\t<tr><td>id7 </td><td>bb  </td><td>7   </td><td>-2.0</td><td>14  </td><td>-14 </td><td> 0.0</td><td>lb2 </td></tr>\n",
       "</tbody>\n",
       "</table>\n"
      ],
      "text/latex": [
       "\\begin{tabular}{r|llllllll}\n",
       " Col1 & Col2 & Col3 & Col4 & Col5 & Col6 & Col7 & Label\\\\\n",
       "\\hline\n",
       "\t id1  & aa   & 1    &  0.6 &  2   &  -2  &  1.3 & lb1 \\\\\n",
       "\t id2  & bb   & 2    &   NA &  4   &  -4  &  2.8 & lb2 \\\\\n",
       "\t id3  & cc   & 3    &  0.4 &  6   &  -6  & -3.5 & lb2 \\\\\n",
       "\t id4  & aa   & 4    & 12.0 &  8   &  -8  &  4.4 & lb1 \\\\\n",
       "\t id5  & cc   & 5    &  0.7 & 10   & -10  &  9.9 & lb2 \\\\\n",
       "\t id5  & cc   & 5    &  0.7 & 10   & -10  &  9.9 & lb2 \\\\\n",
       "\t id6  & dd   & 6    &  0.5 & 12   & -12  & -1.9 & lb2 \\\\\n",
       "\t id7  & bb   & 7    & -2.0 & 14   & -14  &  0.0 & lb2 \\\\\n",
       "\\end{tabular}\n"
      ],
      "text/markdown": [
       "\n",
       "| Col1 | Col2 | Col3 | Col4 | Col5 | Col6 | Col7 | Label |\n",
       "|---|---|---|---|---|---|---|---|\n",
       "| id1  | aa   | 1    |  0.6 |  2   |  -2  |  1.3 | lb1  |\n",
       "| id2  | bb   | 2    |   NA |  4   |  -4  |  2.8 | lb2  |\n",
       "| id3  | cc   | 3    |  0.4 |  6   |  -6  | -3.5 | lb2  |\n",
       "| id4  | aa   | 4    | 12.0 |  8   |  -8  |  4.4 | lb1  |\n",
       "| id5  | cc   | 5    |  0.7 | 10   | -10  |  9.9 | lb2  |\n",
       "| id5  | cc   | 5    |  0.7 | 10   | -10  |  9.9 | lb2  |\n",
       "| id6  | dd   | 6    |  0.5 | 12   | -12  | -1.9 | lb2  |\n",
       "| id7  | bb   | 7    | -2.0 | 14   | -14  |  0.0 | lb2  |\n",
       "\n"
      ],
      "text/plain": [
       "  Col1 Col2 Col3 Col4 Col5 Col6 Col7 Label\n",
       "1 id1  aa   1     0.6  2    -2   1.3 lb1  \n",
       "2 id2  bb   2      NA  4    -4   2.8 lb2  \n",
       "3 id3  cc   3     0.4  6    -6  -3.5 lb2  \n",
       "4 id4  aa   4    12.0  8    -8   4.4 lb1  \n",
       "5 id5  cc   5     0.7 10   -10   9.9 lb2  \n",
       "6 id5  cc   5     0.7 10   -10   9.9 lb2  \n",
       "7 id6  dd   6     0.5 12   -12  -1.9 lb2  \n",
       "8 id7  bb   7    -2.0 14   -14   0.0 lb2  "
      ]
     },
     "metadata": {},
     "output_type": "display_data"
    },
    {
     "data": {
      "text/html": [
       "<table>\n",
       "<thead><tr><th scope=col>Col1</th><th scope=col>Col3</th><th scope=col>Col4</th><th scope=col>Col5</th><th scope=col>Col6</th><th scope=col>Col7</th><th scope=col>Label</th><th scope=col>aa</th><th scope=col>bb</th><th scope=col>cc</th><th scope=col>dd</th></tr></thead>\n",
       "<tbody>\n",
       "\t<tr><td>id1 </td><td>1   </td><td> 0.6</td><td> 2  </td><td> -2 </td><td> 1.3</td><td>lb1 </td><td>1   </td><td>0   </td><td>0   </td><td>0   </td></tr>\n",
       "\t<tr><td>id2 </td><td>2   </td><td>  NA</td><td> 4  </td><td> -4 </td><td> 2.8</td><td>lb2 </td><td>0   </td><td>1   </td><td>0   </td><td>0   </td></tr>\n",
       "\t<tr><td>id3 </td><td>3   </td><td> 0.4</td><td> 6  </td><td> -6 </td><td>-3.5</td><td>lb2 </td><td>0   </td><td>0   </td><td>1   </td><td>0   </td></tr>\n",
       "\t<tr><td>id4 </td><td>4   </td><td>12.0</td><td> 8  </td><td> -8 </td><td> 4.4</td><td>lb1 </td><td>1   </td><td>0   </td><td>0   </td><td>0   </td></tr>\n",
       "\t<tr><td>id5 </td><td>5   </td><td> 0.7</td><td>10  </td><td>-10 </td><td> 9.9</td><td>lb2 </td><td>0   </td><td>0   </td><td>1   </td><td>0   </td></tr>\n",
       "\t<tr><td>id5 </td><td>5   </td><td> 0.7</td><td>10  </td><td>-10 </td><td> 9.9</td><td>lb2 </td><td>0   </td><td>0   </td><td>1   </td><td>0   </td></tr>\n",
       "\t<tr><td>id6 </td><td>6   </td><td> 0.5</td><td>12  </td><td>-12 </td><td>-1.9</td><td>lb2 </td><td>0   </td><td>0   </td><td>0   </td><td>1   </td></tr>\n",
       "\t<tr><td>id7 </td><td>7   </td><td>-2.0</td><td>14  </td><td>-14 </td><td> 0.0</td><td>lb2 </td><td>0   </td><td>1   </td><td>0   </td><td>0   </td></tr>\n",
       "</tbody>\n",
       "</table>\n"
      ],
      "text/latex": [
       "\\begin{tabular}{r|lllllllllll}\n",
       " Col1 & Col3 & Col4 & Col5 & Col6 & Col7 & Label & aa & bb & cc & dd\\\\\n",
       "\\hline\n",
       "\t id1  & 1    &  0.6 &  2   &  -2  &  1.3 & lb1  & 1    & 0    & 0    & 0   \\\\\n",
       "\t id2  & 2    &   NA &  4   &  -4  &  2.8 & lb2  & 0    & 1    & 0    & 0   \\\\\n",
       "\t id3  & 3    &  0.4 &  6   &  -6  & -3.5 & lb2  & 0    & 0    & 1    & 0   \\\\\n",
       "\t id4  & 4    & 12.0 &  8   &  -8  &  4.4 & lb1  & 1    & 0    & 0    & 0   \\\\\n",
       "\t id5  & 5    &  0.7 & 10   & -10  &  9.9 & lb2  & 0    & 0    & 1    & 0   \\\\\n",
       "\t id5  & 5    &  0.7 & 10   & -10  &  9.9 & lb2  & 0    & 0    & 1    & 0   \\\\\n",
       "\t id6  & 6    &  0.5 & 12   & -12  & -1.9 & lb2  & 0    & 0    & 0    & 1   \\\\\n",
       "\t id7  & 7    & -2.0 & 14   & -14  &  0.0 & lb2  & 0    & 1    & 0    & 0   \\\\\n",
       "\\end{tabular}\n"
      ],
      "text/markdown": [
       "\n",
       "| Col1 | Col3 | Col4 | Col5 | Col6 | Col7 | Label | aa | bb | cc | dd |\n",
       "|---|---|---|---|---|---|---|---|---|---|---|\n",
       "| id1  | 1    |  0.6 |  2   |  -2  |  1.3 | lb1  | 1    | 0    | 0    | 0    |\n",
       "| id2  | 2    |   NA |  4   |  -4  |  2.8 | lb2  | 0    | 1    | 0    | 0    |\n",
       "| id3  | 3    |  0.4 |  6   |  -6  | -3.5 | lb2  | 0    | 0    | 1    | 0    |\n",
       "| id4  | 4    | 12.0 |  8   |  -8  |  4.4 | lb1  | 1    | 0    | 0    | 0    |\n",
       "| id5  | 5    |  0.7 | 10   | -10  |  9.9 | lb2  | 0    | 0    | 1    | 0    |\n",
       "| id5  | 5    |  0.7 | 10   | -10  |  9.9 | lb2  | 0    | 0    | 1    | 0    |\n",
       "| id6  | 6    |  0.5 | 12   | -12  | -1.9 | lb2  | 0    | 0    | 0    | 1    |\n",
       "| id7  | 7    | -2.0 | 14   | -14  |  0.0 | lb2  | 0    | 1    | 0    | 0    |\n",
       "\n"
      ],
      "text/plain": [
       "  Col1 Col3 Col4 Col5 Col6 Col7 Label aa bb cc dd\n",
       "1 id1  1     0.6  2    -2   1.3 lb1   1  0  0  0 \n",
       "2 id2  2      NA  4    -4   2.8 lb2   0  1  0  0 \n",
       "3 id3  3     0.4  6    -6  -3.5 lb2   0  0  1  0 \n",
       "4 id4  4    12.0  8    -8   4.4 lb1   1  0  0  0 \n",
       "5 id5  5     0.7 10   -10   9.9 lb2   0  0  1  0 \n",
       "6 id5  5     0.7 10   -10   9.9 lb2   0  0  1  0 \n",
       "7 id6  6     0.5 12   -12  -1.9 lb2   0  0  0  1 \n",
       "8 id7  7    -2.0 14   -14   0.0 lb2   0  1  0  0 "
      ]
     },
     "metadata": {},
     "output_type": "display_data"
    },
    {
     "data": {
      "text/html": [
       "<table>\n",
       "<thead><tr><th scope=col>Col3</th><th scope=col>Col4</th><th scope=col>Col5</th><th scope=col>Col6</th><th scope=col>Col7</th><th scope=col>Label</th><th scope=col>aa</th><th scope=col>bb</th><th scope=col>cc</th><th scope=col>dd</th></tr></thead>\n",
       "<tbody>\n",
       "\t<tr><td>1   </td><td> 0.6</td><td> 2  </td><td> -2 </td><td> 1.3</td><td>lb1 </td><td>1   </td><td>0   </td><td>0   </td><td>0   </td></tr>\n",
       "\t<tr><td>2   </td><td>  NA</td><td> 4  </td><td> -4 </td><td> 2.8</td><td>lb2 </td><td>0   </td><td>1   </td><td>0   </td><td>0   </td></tr>\n",
       "\t<tr><td>3   </td><td> 0.4</td><td> 6  </td><td> -6 </td><td>-3.5</td><td>lb2 </td><td>0   </td><td>0   </td><td>1   </td><td>0   </td></tr>\n",
       "\t<tr><td>4   </td><td>12.0</td><td> 8  </td><td> -8 </td><td> 4.4</td><td>lb1 </td><td>1   </td><td>0   </td><td>0   </td><td>0   </td></tr>\n",
       "\t<tr><td>5   </td><td> 0.7</td><td>10  </td><td>-10 </td><td> 9.9</td><td>lb2 </td><td>0   </td><td>0   </td><td>1   </td><td>0   </td></tr>\n",
       "\t<tr><td>5   </td><td> 0.7</td><td>10  </td><td>-10 </td><td> 9.9</td><td>lb2 </td><td>0   </td><td>0   </td><td>1   </td><td>0   </td></tr>\n",
       "\t<tr><td>6   </td><td> 0.5</td><td>12  </td><td>-12 </td><td>-1.9</td><td>lb2 </td><td>0   </td><td>0   </td><td>0   </td><td>1   </td></tr>\n",
       "\t<tr><td>7   </td><td>-2.0</td><td>14  </td><td>-14 </td><td> 0.0</td><td>lb2 </td><td>0   </td><td>1   </td><td>0   </td><td>0   </td></tr>\n",
       "</tbody>\n",
       "</table>\n"
      ],
      "text/latex": [
       "\\begin{tabular}{r|llllllllll}\n",
       " Col3 & Col4 & Col5 & Col6 & Col7 & Label & aa & bb & cc & dd\\\\\n",
       "\\hline\n",
       "\t 1    &  0.6 &  2   &  -2  &  1.3 & lb1  & 1    & 0    & 0    & 0   \\\\\n",
       "\t 2    &   NA &  4   &  -4  &  2.8 & lb2  & 0    & 1    & 0    & 0   \\\\\n",
       "\t 3    &  0.4 &  6   &  -6  & -3.5 & lb2  & 0    & 0    & 1    & 0   \\\\\n",
       "\t 4    & 12.0 &  8   &  -8  &  4.4 & lb1  & 1    & 0    & 0    & 0   \\\\\n",
       "\t 5    &  0.7 & 10   & -10  &  9.9 & lb2  & 0    & 0    & 1    & 0   \\\\\n",
       "\t 5    &  0.7 & 10   & -10  &  9.9 & lb2  & 0    & 0    & 1    & 0   \\\\\n",
       "\t 6    &  0.5 & 12   & -12  & -1.9 & lb2  & 0    & 0    & 0    & 1   \\\\\n",
       "\t 7    & -2.0 & 14   & -14  &  0.0 & lb2  & 0    & 1    & 0    & 0   \\\\\n",
       "\\end{tabular}\n"
      ],
      "text/markdown": [
       "\n",
       "| Col3 | Col4 | Col5 | Col6 | Col7 | Label | aa | bb | cc | dd |\n",
       "|---|---|---|---|---|---|---|---|---|---|\n",
       "| 1    |  0.6 |  2   |  -2  |  1.3 | lb1  | 1    | 0    | 0    | 0    |\n",
       "| 2    |   NA |  4   |  -4  |  2.8 | lb2  | 0    | 1    | 0    | 0    |\n",
       "| 3    |  0.4 |  6   |  -6  | -3.5 | lb2  | 0    | 0    | 1    | 0    |\n",
       "| 4    | 12.0 |  8   |  -8  |  4.4 | lb1  | 1    | 0    | 0    | 0    |\n",
       "| 5    |  0.7 | 10   | -10  |  9.9 | lb2  | 0    | 0    | 1    | 0    |\n",
       "| 5    |  0.7 | 10   | -10  |  9.9 | lb2  | 0    | 0    | 1    | 0    |\n",
       "| 6    |  0.5 | 12   | -12  | -1.9 | lb2  | 0    | 0    | 0    | 1    |\n",
       "| 7    | -2.0 | 14   | -14  |  0.0 | lb2  | 0    | 1    | 0    | 0    |\n",
       "\n"
      ],
      "text/plain": [
       "  Col3 Col4 Col5 Col6 Col7 Label aa bb cc dd\n",
       "1 1     0.6  2    -2   1.3 lb1   1  0  0  0 \n",
       "2 2      NA  4    -4   2.8 lb2   0  1  0  0 \n",
       "3 3     0.4  6    -6  -3.5 lb2   0  0  1  0 \n",
       "4 4    12.0  8    -8   4.4 lb1   1  0  0  0 \n",
       "5 5     0.7 10   -10   9.9 lb2   0  0  1  0 \n",
       "6 5     0.7 10   -10   9.9 lb2   0  0  1  0 \n",
       "7 6     0.5 12   -12  -1.9 lb2   0  0  0  1 \n",
       "8 7    -2.0 14   -14   0.0 lb2   0  1  0  0 "
      ]
     },
     "metadata": {},
     "output_type": "display_data"
    },
    {
     "data": {
      "text/html": [
       "<table>\n",
       "<thead><tr><th scope=col>Col3</th><th scope=col>Col4</th><th scope=col>Col5</th><th scope=col>Col6</th><th scope=col>Col7</th><th scope=col>Label</th><th scope=col>aa</th><th scope=col>bb</th><th scope=col>cc</th><th scope=col>dd</th></tr></thead>\n",
       "<tbody>\n",
       "\t<tr><td>1   </td><td> 0.6</td><td> 2  </td><td> -2 </td><td> 1.3</td><td>lb1 </td><td>1   </td><td>0   </td><td>0   </td><td>0   </td></tr>\n",
       "\t<tr><td>2   </td><td>  NA</td><td> 4  </td><td> -4 </td><td> 2.8</td><td>lb2 </td><td>0   </td><td>1   </td><td>0   </td><td>0   </td></tr>\n",
       "\t<tr><td>3   </td><td> 0.4</td><td> 6  </td><td> -6 </td><td>-3.5</td><td>lb2 </td><td>0   </td><td>0   </td><td>1   </td><td>0   </td></tr>\n",
       "\t<tr><td>4   </td><td>12.0</td><td> 8  </td><td> -8 </td><td> 4.4</td><td>lb1 </td><td>1   </td><td>0   </td><td>0   </td><td>0   </td></tr>\n",
       "\t<tr><td>5   </td><td> 0.7</td><td>10  </td><td>-10 </td><td> 9.9</td><td>lb2 </td><td>0   </td><td>0   </td><td>1   </td><td>0   </td></tr>\n",
       "\t<tr><td>5   </td><td> 0.7</td><td>10  </td><td>-10 </td><td> 9.9</td><td>lb2 </td><td>0   </td><td>0   </td><td>1   </td><td>0   </td></tr>\n",
       "\t<tr><td>6   </td><td> 0.5</td><td>12  </td><td>-12 </td><td>-1.9</td><td>lb2 </td><td>0   </td><td>0   </td><td>0   </td><td>1   </td></tr>\n",
       "\t<tr><td>7   </td><td>-2.0</td><td>14  </td><td>-14 </td><td> 0.0</td><td>lb2 </td><td>0   </td><td>1   </td><td>0   </td><td>0   </td></tr>\n",
       "</tbody>\n",
       "</table>\n"
      ],
      "text/latex": [
       "\\begin{tabular}{r|llllllllll}\n",
       " Col3 & Col4 & Col5 & Col6 & Col7 & Label & aa & bb & cc & dd\\\\\n",
       "\\hline\n",
       "\t 1    &  0.6 &  2   &  -2  &  1.3 & lb1  & 1    & 0    & 0    & 0   \\\\\n",
       "\t 2    &   NA &  4   &  -4  &  2.8 & lb2  & 0    & 1    & 0    & 0   \\\\\n",
       "\t 3    &  0.4 &  6   &  -6  & -3.5 & lb2  & 0    & 0    & 1    & 0   \\\\\n",
       "\t 4    & 12.0 &  8   &  -8  &  4.4 & lb1  & 1    & 0    & 0    & 0   \\\\\n",
       "\t 5    &  0.7 & 10   & -10  &  9.9 & lb2  & 0    & 0    & 1    & 0   \\\\\n",
       "\t 5    &  0.7 & 10   & -10  &  9.9 & lb2  & 0    & 0    & 1    & 0   \\\\\n",
       "\t 6    &  0.5 & 12   & -12  & -1.9 & lb2  & 0    & 0    & 0    & 1   \\\\\n",
       "\t 7    & -2.0 & 14   & -14  &  0.0 & lb2  & 0    & 1    & 0    & 0   \\\\\n",
       "\\end{tabular}\n"
      ],
      "text/markdown": [
       "\n",
       "| Col3 | Col4 | Col5 | Col6 | Col7 | Label | aa | bb | cc | dd |\n",
       "|---|---|---|---|---|---|---|---|---|---|\n",
       "| 1    |  0.6 |  2   |  -2  |  1.3 | lb1  | 1    | 0    | 0    | 0    |\n",
       "| 2    |   NA |  4   |  -4  |  2.8 | lb2  | 0    | 1    | 0    | 0    |\n",
       "| 3    |  0.4 |  6   |  -6  | -3.5 | lb2  | 0    | 0    | 1    | 0    |\n",
       "| 4    | 12.0 |  8   |  -8  |  4.4 | lb1  | 1    | 0    | 0    | 0    |\n",
       "| 5    |  0.7 | 10   | -10  |  9.9 | lb2  | 0    | 0    | 1    | 0    |\n",
       "| 5    |  0.7 | 10   | -10  |  9.9 | lb2  | 0    | 0    | 1    | 0    |\n",
       "| 6    |  0.5 | 12   | -12  | -1.9 | lb2  | 0    | 0    | 0    | 1    |\n",
       "| 7    | -2.0 | 14   | -14  |  0.0 | lb2  | 0    | 1    | 0    | 0    |\n",
       "\n"
      ],
      "text/plain": [
       "  Col3 Col4 Col5 Col6 Col7 Label aa bb cc dd\n",
       "1 1     0.6  2    -2   1.3 lb1   1  0  0  0 \n",
       "2 2      NA  4    -4   2.8 lb2   0  1  0  0 \n",
       "3 3     0.4  6    -6  -3.5 lb2   0  0  1  0 \n",
       "4 4    12.0  8    -8   4.4 lb1   1  0  0  0 \n",
       "5 5     0.7 10   -10   9.9 lb2   0  0  1  0 \n",
       "6 5     0.7 10   -10   9.9 lb2   0  0  1  0 \n",
       "7 6     0.5 12   -12  -1.9 lb2   0  0  0  1 \n",
       "8 7    -2.0 14   -14   0.0 lb2   0  1  0  0 "
      ]
     },
     "metadata": {},
     "output_type": "display_data"
    },
    {
     "data": {
      "text/html": [
       "<table>\n",
       "<thead><tr><th></th><th scope=col>Col3</th><th scope=col>Col4</th><th scope=col>Col5</th><th scope=col>Col6</th><th scope=col>Col7</th><th scope=col>Label</th><th scope=col>aa</th><th scope=col>bb</th><th scope=col>cc</th><th scope=col>dd</th></tr></thead>\n",
       "<tbody>\n",
       "\t<tr><th scope=row>1</th><td>1   </td><td> 0.6</td><td> 2  </td><td> -2 </td><td> 1.3</td><td>lb1 </td><td>1   </td><td>0   </td><td>0   </td><td>0   </td></tr>\n",
       "\t<tr><th scope=row>3</th><td>3   </td><td> 0.4</td><td> 6  </td><td> -6 </td><td>-3.5</td><td>lb2 </td><td>0   </td><td>0   </td><td>1   </td><td>0   </td></tr>\n",
       "\t<tr><th scope=row>4</th><td>4   </td><td>12.0</td><td> 8  </td><td> -8 </td><td> 4.4</td><td>lb1 </td><td>1   </td><td>0   </td><td>0   </td><td>0   </td></tr>\n",
       "\t<tr><th scope=row>5</th><td>5   </td><td> 0.7</td><td>10  </td><td>-10 </td><td> 9.9</td><td>lb2 </td><td>0   </td><td>0   </td><td>1   </td><td>0   </td></tr>\n",
       "\t<tr><th scope=row>7</th><td>6   </td><td> 0.5</td><td>12  </td><td>-12 </td><td>-1.9</td><td>lb2 </td><td>0   </td><td>0   </td><td>0   </td><td>1   </td></tr>\n",
       "\t<tr><th scope=row>8</th><td>7   </td><td>-2.0</td><td>14  </td><td>-14 </td><td> 0.0</td><td>lb2 </td><td>0   </td><td>1   </td><td>0   </td><td>0   </td></tr>\n",
       "</tbody>\n",
       "</table>\n"
      ],
      "text/latex": [
       "\\begin{tabular}{r|llllllllll}\n",
       "  & Col3 & Col4 & Col5 & Col6 & Col7 & Label & aa & bb & cc & dd\\\\\n",
       "\\hline\n",
       "\t1 & 1    &  0.6 &  2   &  -2  &  1.3 & lb1  & 1    & 0    & 0    & 0   \\\\\n",
       "\t3 & 3    &  0.4 &  6   &  -6  & -3.5 & lb2  & 0    & 0    & 1    & 0   \\\\\n",
       "\t4 & 4    & 12.0 &  8   &  -8  &  4.4 & lb1  & 1    & 0    & 0    & 0   \\\\\n",
       "\t5 & 5    &  0.7 & 10   & -10  &  9.9 & lb2  & 0    & 0    & 1    & 0   \\\\\n",
       "\t7 & 6    &  0.5 & 12   & -12  & -1.9 & lb2  & 0    & 0    & 0    & 1   \\\\\n",
       "\t8 & 7    & -2.0 & 14   & -14  &  0.0 & lb2  & 0    & 1    & 0    & 0   \\\\\n",
       "\\end{tabular}\n"
      ],
      "text/markdown": [
       "\n",
       "| <!--/--> | Col3 | Col4 | Col5 | Col6 | Col7 | Label | aa | bb | cc | dd |\n",
       "|---|---|---|---|---|---|---|---|---|---|---|\n",
       "| 1 | 1    |  0.6 |  2   |  -2  |  1.3 | lb1  | 1    | 0    | 0    | 0    |\n",
       "| 3 | 3    |  0.4 |  6   |  -6  | -3.5 | lb2  | 0    | 0    | 1    | 0    |\n",
       "| 4 | 4    | 12.0 |  8   |  -8  |  4.4 | lb1  | 1    | 0    | 0    | 0    |\n",
       "| 5 | 5    |  0.7 | 10   | -10  |  9.9 | lb2  | 0    | 0    | 1    | 0    |\n",
       "| 7 | 6    |  0.5 | 12   | -12  | -1.9 | lb2  | 0    | 0    | 0    | 1    |\n",
       "| 8 | 7    | -2.0 | 14   | -14  |  0.0 | lb2  | 0    | 1    | 0    | 0    |\n",
       "\n"
      ],
      "text/plain": [
       "  Col3 Col4 Col5 Col6 Col7 Label aa bb cc dd\n",
       "1 1     0.6  2    -2   1.3 lb1   1  0  0  0 \n",
       "3 3     0.4  6    -6  -3.5 lb2   0  0  1  0 \n",
       "4 4    12.0  8    -8   4.4 lb1   1  0  0  0 \n",
       "5 5     0.7 10   -10   9.9 lb2   0  0  1  0 \n",
       "7 6     0.5 12   -12  -1.9 lb2   0  0  0  1 \n",
       "8 7    -2.0 14   -14   0.0 lb2   0  1  0  0 "
      ]
     },
     "metadata": {},
     "output_type": "display_data"
    },
    {
     "data": {
      "text/html": [
       "<table>\n",
       "<thead><tr><th></th><th scope=col>Col3</th><th scope=col>Col4</th><th scope=col>Col5</th><th scope=col>Col6</th><th scope=col>Col7</th><th scope=col>Label</th><th scope=col>aa</th><th scope=col>bb</th><th scope=col>cc</th><th scope=col>dd</th></tr></thead>\n",
       "<tbody>\n",
       "\t<tr><th scope=row>4</th><td>4   </td><td>12.0</td><td> 8  </td><td> -8 </td><td> 4.4</td><td>lb1 </td><td>1   </td><td>0   </td><td>0   </td><td>0   </td></tr>\n",
       "\t<tr><th scope=row>5</th><td>5   </td><td> 0.7</td><td>10  </td><td>-10 </td><td> 9.9</td><td>lb2 </td><td>0   </td><td>0   </td><td>1   </td><td>0   </td></tr>\n",
       "\t<tr><th scope=row>7</th><td>6   </td><td> 0.5</td><td>12  </td><td>-12 </td><td>-1.9</td><td>lb2 </td><td>0   </td><td>0   </td><td>0   </td><td>1   </td></tr>\n",
       "\t<tr><th scope=row>8</th><td>7   </td><td>-2.0</td><td>14  </td><td>-14 </td><td> 0.0</td><td>lb2 </td><td>0   </td><td>1   </td><td>0   </td><td>0   </td></tr>\n",
       "</tbody>\n",
       "</table>\n"
      ],
      "text/latex": [
       "\\begin{tabular}{r|llllllllll}\n",
       "  & Col3 & Col4 & Col5 & Col6 & Col7 & Label & aa & bb & cc & dd\\\\\n",
       "\\hline\n",
       "\t4 & 4    & 12.0 &  8   &  -8  &  4.4 & lb1  & 1    & 0    & 0    & 0   \\\\\n",
       "\t5 & 5    &  0.7 & 10   & -10  &  9.9 & lb2  & 0    & 0    & 1    & 0   \\\\\n",
       "\t7 & 6    &  0.5 & 12   & -12  & -1.9 & lb2  & 0    & 0    & 0    & 1   \\\\\n",
       "\t8 & 7    & -2.0 & 14   & -14  &  0.0 & lb2  & 0    & 1    & 0    & 0   \\\\\n",
       "\\end{tabular}\n"
      ],
      "text/markdown": [
       "\n",
       "| <!--/--> | Col3 | Col4 | Col5 | Col6 | Col7 | Label | aa | bb | cc | dd |\n",
       "|---|---|---|---|---|---|---|---|---|---|---|\n",
       "| 4 | 4    | 12.0 |  8   |  -8  |  4.4 | lb1  | 1    | 0    | 0    | 0    |\n",
       "| 5 | 5    |  0.7 | 10   | -10  |  9.9 | lb2  | 0    | 0    | 1    | 0    |\n",
       "| 7 | 6    |  0.5 | 12   | -12  | -1.9 | lb2  | 0    | 0    | 0    | 1    |\n",
       "| 8 | 7    | -2.0 | 14   | -14  |  0.0 | lb2  | 0    | 1    | 0    | 0    |\n",
       "\n"
      ],
      "text/plain": [
       "  Col3 Col4 Col5 Col6 Col7 Label aa bb cc dd\n",
       "4 4    12.0  8    -8   4.4 lb1   1  0  0  0 \n",
       "5 5     0.7 10   -10   9.9 lb2   0  0  1  0 \n",
       "7 6     0.5 12   -12  -1.9 lb2   0  0  0  1 \n",
       "8 7    -2.0 14   -14   0.0 lb2   0  1  0  0 "
      ]
     },
     "metadata": {},
     "output_type": "display_data"
    },
    {
     "data": {
      "text/html": [
       "<table>\n",
       "<thead><tr><th></th><th scope=col>Col3</th><th scope=col>Col4</th><th scope=col>Col5</th><th scope=col>Col6</th><th scope=col>Col7</th><th scope=col>Label</th><th scope=col>aa</th><th scope=col>bb</th><th scope=col>cc</th><th scope=col>dd</th></tr></thead>\n",
       "<tbody>\n",
       "\t<tr><th scope=row>1</th><td>1   </td><td>0.6 </td><td>2   </td><td>-2  </td><td> 1.3</td><td>lb1 </td><td>1   </td><td>0   </td><td>0   </td><td>0   </td></tr>\n",
       "\t<tr><th scope=row>3</th><td>3   </td><td>0.4 </td><td>6   </td><td>-6  </td><td>-3.5</td><td>lb2 </td><td>0   </td><td>0   </td><td>1   </td><td>0   </td></tr>\n",
       "</tbody>\n",
       "</table>\n"
      ],
      "text/latex": [
       "\\begin{tabular}{r|llllllllll}\n",
       "  & Col3 & Col4 & Col5 & Col6 & Col7 & Label & aa & bb & cc & dd\\\\\n",
       "\\hline\n",
       "\t1 & 1    & 0.6  & 2    & -2   &  1.3 & lb1  & 1    & 0    & 0    & 0   \\\\\n",
       "\t3 & 3    & 0.4  & 6    & -6   & -3.5 & lb2  & 0    & 0    & 1    & 0   \\\\\n",
       "\\end{tabular}\n"
      ],
      "text/markdown": [
       "\n",
       "| <!--/--> | Col3 | Col4 | Col5 | Col6 | Col7 | Label | aa | bb | cc | dd |\n",
       "|---|---|---|---|---|---|---|---|---|---|---|\n",
       "| 1 | 1    | 0.6  | 2    | -2   |  1.3 | lb1  | 1    | 0    | 0    | 0    |\n",
       "| 3 | 3    | 0.4  | 6    | -6   | -3.5 | lb2  | 0    | 0    | 1    | 0    |\n",
       "\n"
      ],
      "text/plain": [
       "  Col3 Col4 Col5 Col6 Col7 Label aa bb cc dd\n",
       "1 1    0.6  2    -2    1.3 lb1   1  0  0  0 \n",
       "3 3    0.4  6    -6   -3.5 lb2   0  0  1  0 "
      ]
     },
     "metadata": {},
     "output_type": "display_data"
    },
    {
     "data": {
      "text/html": [
       "<ol class=list-inline>\n",
       "\t<li>'lb1'</li>\n",
       "\t<li>'lb2'</li>\n",
       "</ol>\n"
      ],
      "text/latex": [
       "\\begin{enumerate*}\n",
       "\\item 'lb1'\n",
       "\\item 'lb2'\n",
       "\\end{enumerate*}\n"
      ],
      "text/markdown": [
       "1. 'lb1'\n",
       "2. 'lb2'\n",
       "\n",
       "\n"
      ],
      "text/plain": [
       "[1] \"lb1\" \"lb2\""
      ]
     },
     "metadata": {},
     "output_type": "display_data"
    }
   ],
   "source": [
    "# read data from a file\n",
    "data1 <- readr::read_csv(\"sample.csv\")\n",
    "data1\n",
    "\n",
    "# Rename columns\n",
    "data2 <- data.frame(data1[, c(\"Col1\", \"Col3\", \"Col4\", \"Col5\", \"Col6\", \"Col7\", \"Label\")], model.matrix(~Col2-1,data=data1))\n",
    "names(data2) <- c(\"Col1\", \"Col3\", \"Col4\", \"Col5\", \"Col6\", \"Col7\", \"Label\", \"aa\", \"bb\", \"cc\", \"dd\")\n",
    "data2\n",
    "\n",
    "# remove the first ID column\n",
    "data2[, -1] # method1\n",
    "data2[, -c(1)] # method2, same result\n",
    "model_data <- data2[, -1]\n",
    "\n",
    "# Remove NA rows\n",
    "model_data <- na.omit(model_data)\n",
    "model_data <- model_data[!duplicated(model_data),]\n",
    "model_data\n",
    "\n",
    "# split dataset\n",
    "trainset <- model_data[c(3:6),]\n",
    "testset <- model_data[1:2,]\n",
    "trainset\n",
    "testset\n",
    "\n",
    "library(\"class\")\n",
    "\n",
    "trainX <- trainset[,names(trainset)[names(trainset)!=\"Label\"]]\n",
    "trainY <- trainset[,names(trainset)[names(trainset)==\"Label\"]]\n",
    "testX <- testset[,names(testset)[names(testset)!=\"Label\"]]\n",
    "testY <- testset[,names(testset)[names(testset)==\"Label\"]]\n",
    "res <- knn(trainX, testX, cl=trainY, k=2)\n",
    "as.character(res)"
   ]
  },
  {
   "cell_type": "code",
   "execution_count": 33,
   "id": "a45ec9fd",
   "metadata": {},
   "outputs": [
    {
     "name": "stderr",
     "output_type": "stream",
     "text": [
      "Warning message in roc.default(as.numeric(res), as.numeric(testY)):\n",
      "\"NAs introduced by coercion\""
     ]
    },
    {
     "ename": "ERROR",
     "evalue": "Error in roc.default(as.numeric(res), as.numeric(testY)): No control observation.\n",
     "output_type": "error",
     "traceback": [
      "Error in roc.default(as.numeric(res), as.numeric(testY)): No control observation.\nTraceback:\n",
      "1. roc(as.numeric(res), as.numeric(testY))",
      "2. roc.default(as.numeric(res), as.numeric(testY))",
      "3. stop(\"No control observation.\")"
     ]
    }
   ],
   "source": [
    "library(pROC)\n",
    "roc(as.numeric(res), as.numeric(testY))"
   ]
  },
  {
   "cell_type": "code",
   "execution_count": 53,
   "id": "15b6b0f8",
   "metadata": {},
   "outputs": [
    {
     "data": {
      "text/html": [
       "<table>\n",
       "<thead><tr><th></th><th scope=col>Col3</th><th scope=col>Col4</th><th scope=col>Col5</th><th scope=col>Col6</th><th scope=col>Col7</th><th scope=col>Label</th><th scope=col>aa</th><th scope=col>bb</th><th scope=col>cc</th><th scope=col>dd</th></tr></thead>\n",
       "<tbody>\n",
       "\t<tr><th scope=row>4</th><td>4   </td><td>12.0</td><td> 8  </td><td> -8 </td><td> 4.4</td><td>lb1 </td><td>1   </td><td>0   </td><td>0   </td><td>0   </td></tr>\n",
       "\t<tr><th scope=row>5</th><td>5   </td><td> 0.7</td><td>10  </td><td>-10 </td><td> 9.9</td><td>lb2 </td><td>0   </td><td>0   </td><td>1   </td><td>0   </td></tr>\n",
       "\t<tr><th scope=row>7</th><td>6   </td><td> 0.5</td><td>12  </td><td>-12 </td><td>-1.9</td><td>lb2 </td><td>0   </td><td>0   </td><td>0   </td><td>1   </td></tr>\n",
       "\t<tr><th scope=row>8</th><td>7   </td><td>-2.0</td><td>14  </td><td>-14 </td><td> 0.0</td><td>lb2 </td><td>0   </td><td>1   </td><td>0   </td><td>0   </td></tr>\n",
       "</tbody>\n",
       "</table>\n"
      ],
      "text/latex": [
       "\\begin{tabular}{r|llllllllll}\n",
       "  & Col3 & Col4 & Col5 & Col6 & Col7 & Label & aa & bb & cc & dd\\\\\n",
       "\\hline\n",
       "\t4 & 4    & 12.0 &  8   &  -8  &  4.4 & lb1  & 1    & 0    & 0    & 0   \\\\\n",
       "\t5 & 5    &  0.7 & 10   & -10  &  9.9 & lb2  & 0    & 0    & 1    & 0   \\\\\n",
       "\t7 & 6    &  0.5 & 12   & -12  & -1.9 & lb2  & 0    & 0    & 0    & 1   \\\\\n",
       "\t8 & 7    & -2.0 & 14   & -14  &  0.0 & lb2  & 0    & 1    & 0    & 0   \\\\\n",
       "\\end{tabular}\n"
      ],
      "text/markdown": [
       "\n",
       "| <!--/--> | Col3 | Col4 | Col5 | Col6 | Col7 | Label | aa | bb | cc | dd |\n",
       "|---|---|---|---|---|---|---|---|---|---|---|\n",
       "| 4 | 4    | 12.0 |  8   |  -8  |  4.4 | lb1  | 1    | 0    | 0    | 0    |\n",
       "| 5 | 5    |  0.7 | 10   | -10  |  9.9 | lb2  | 0    | 0    | 1    | 0    |\n",
       "| 7 | 6    |  0.5 | 12   | -12  | -1.9 | lb2  | 0    | 0    | 0    | 1    |\n",
       "| 8 | 7    | -2.0 | 14   | -14  |  0.0 | lb2  | 0    | 1    | 0    | 0    |\n",
       "\n"
      ],
      "text/plain": [
       "  Col3 Col4 Col5 Col6 Col7 Label aa bb cc dd\n",
       "4 4    12.0  8    -8   4.4 lb1   1  0  0  0 \n",
       "5 5     0.7 10   -10   9.9 lb2   0  0  1  0 \n",
       "7 6     0.5 12   -12  -1.9 lb2   0  0  0  1 \n",
       "8 7    -2.0 14   -14   0.0 lb2   0  1  0  0 "
      ]
     },
     "metadata": {},
     "output_type": "display_data"
    }
   ],
   "source": [
    "trainset"
   ]
  },
  {
   "cell_type": "code",
   "execution_count": 51,
   "id": "d6d9a72e",
   "metadata": {},
   "outputs": [
    {
     "name": "stderr",
     "output_type": "stream",
     "text": [
      "Warning message in lda.default(x, grouping, ...):\n",
      "\"variables are collinear\""
     ]
    },
    {
     "data": {
      "text/plain": [
       "Call:\n",
       "lda(Label ~ ., data = trainset[, c(\"Col3\", \"Col4\", \"Col5\", \"Label\")])\n",
       "\n",
       "Prior probabilities of groups:\n",
       " lb1  lb2 \n",
       "0.25 0.75 \n",
       "\n",
       "Group means:\n",
       "    Col3       Col4 Col5\n",
       "lb1    4 12.0000000    8\n",
       "lb2    6 -0.2666667   12\n",
       "\n",
       "Coefficients of linear discriminants:\n",
       "            LD1\n",
       "Col3 -0.9382404\n",
       "Col4 -1.4918282\n",
       "Col5 -0.4691202"
      ]
     },
     "metadata": {},
     "output_type": "display_data"
    }
   ],
   "source": [
    "# https://www.r-bloggers.com/2021/05/linear-discriminant-analysis-in-r/\n",
    "library(MASS)\n",
    "linear <- lda(Label~., trainset[,c(\"Col3\", \"Col4\", \"Col5\", \"Label\")])\n",
    "linear"
   ]
  },
  {
   "cell_type": "code",
   "execution_count": 56,
   "id": "c4acd375",
   "metadata": {},
   "outputs": [
    {
     "data": {
      "text/html": [
       "<dl>\n",
       "\t<dt>$class</dt>\n",
       "\t\t<dd><ol class=list-inline>\n",
       "\t<li>lb1</li>\n",
       "\t<li>lb2</li>\n",
       "\t<li>lb2</li>\n",
       "\t<li>lb2</li>\n",
       "</ol>\n",
       "\n",
       "<details>\n",
       "\t<summary style=display:list-item;cursor:pointer>\n",
       "\t\t<strong>Levels</strong>:\n",
       "\t</summary>\n",
       "\t<ol class=list-inline>\n",
       "\t\t<li>'lb1'</li>\n",
       "\t\t<li>'lb2'</li>\n",
       "\t</ol>\n",
       "</details></dd>\n",
       "\t<dt>$posterior</dt>\n",
       "\t\t<dd><table>\n",
       "<thead><tr><th></th><th scope=col>lb1</th><th scope=col>lb2</th></tr></thead>\n",
       "<tbody>\n",
       "\t<tr><th scope=row>4</th><td>1.000000e+00</td><td>3.363102e-46</td></tr>\n",
       "\t<tr><th scope=row>5</th><td>6.733795e-50</td><td>1.000000e+00</td></tr>\n",
       "\t<tr><th scope=row>7</th><td>6.282762e-40</td><td>1.000000e+00</td></tr>\n",
       "\t<tr><th scope=row>8</th><td>1.233338e-51</td><td>1.000000e+00</td></tr>\n",
       "</tbody>\n",
       "</table>\n",
       "</dd>\n",
       "\t<dt>$x</dt>\n",
       "\t\t<dd><table>\n",
       "<thead><tr><th></th><th scope=col>LD1</th></tr></thead>\n",
       "<tbody>\n",
       "\t<tr><th scope=row>4</th><td>-10.910098</td></tr>\n",
       "\t<tr><th scope=row>5</th><td>  4.071080</td></tr>\n",
       "\t<tr><th scope=row>7</th><td>  2.492964</td></tr>\n",
       "\t<tr><th scope=row>8</th><td>  4.346054</td></tr>\n",
       "</tbody>\n",
       "</table>\n",
       "</dd>\n",
       "</dl>\n"
      ],
      "text/latex": [
       "\\begin{description}\n",
       "\\item[\\$class] \\begin{enumerate*}\n",
       "\\item lb1\n",
       "\\item lb2\n",
       "\\item lb2\n",
       "\\item lb2\n",
       "\\end{enumerate*}\n",
       "\n",
       "\\emph{Levels}: \\begin{enumerate*}\n",
       "\\item 'lb1'\n",
       "\\item 'lb2'\n",
       "\\end{enumerate*}\n",
       "\n",
       "\\item[\\$posterior] \\begin{tabular}{r|ll}\n",
       "  & lb1 & lb2\\\\\n",
       "\\hline\n",
       "\t4 & 1.000000e+00 & 3.363102e-46\\\\\n",
       "\t5 & 6.733795e-50 & 1.000000e+00\\\\\n",
       "\t7 & 6.282762e-40 & 1.000000e+00\\\\\n",
       "\t8 & 1.233338e-51 & 1.000000e+00\\\\\n",
       "\\end{tabular}\n",
       "\n",
       "\\item[\\$x] \\begin{tabular}{r|l}\n",
       "  & LD1\\\\\n",
       "\\hline\n",
       "\t4 & -10.910098\\\\\n",
       "\t5 &   4.071080\\\\\n",
       "\t7 &   2.492964\\\\\n",
       "\t8 &   4.346054\\\\\n",
       "\\end{tabular}\n",
       "\n",
       "\\end{description}\n"
      ],
      "text/markdown": [
       "$class\n",
       ":   1. lb1\n",
       "2. lb2\n",
       "3. lb2\n",
       "4. lb2\n",
       "\n",
       "\n",
       "\n",
       "**Levels**: 1. 'lb1'\n",
       "2. 'lb2'\n",
       "\n",
       "\n",
       "\n",
       "$posterior\n",
       ":   \n",
       "| <!--/--> | lb1 | lb2 |\n",
       "|---|---|---|\n",
       "| 4 | 1.000000e+00 | 3.363102e-46 |\n",
       "| 5 | 6.733795e-50 | 1.000000e+00 |\n",
       "| 7 | 6.282762e-40 | 1.000000e+00 |\n",
       "| 8 | 1.233338e-51 | 1.000000e+00 |\n",
       "\n",
       "\n",
       "$x\n",
       ":   \n",
       "| <!--/--> | LD1 |\n",
       "|---|---|\n",
       "| 4 | -10.910098 |\n",
       "| 5 |   4.071080 |\n",
       "| 7 |   2.492964 |\n",
       "| 8 |   4.346054 |\n",
       "\n",
       "\n",
       "\n",
       "\n"
      ],
      "text/plain": [
       "$class\n",
       "[1] lb1 lb2 lb2 lb2\n",
       "Levels: lb1 lb2\n",
       "\n",
       "$posterior\n",
       "           lb1          lb2\n",
       "4 1.000000e+00 3.363102e-46\n",
       "5 6.733795e-50 1.000000e+00\n",
       "7 6.282762e-40 1.000000e+00\n",
       "8 1.233338e-51 1.000000e+00\n",
       "\n",
       "$x\n",
       "         LD1\n",
       "4 -10.910098\n",
       "5   4.071080\n",
       "7   2.492964\n",
       "8   4.346054\n"
      ]
     },
     "metadata": {},
     "output_type": "display_data"
    },
    {
     "data": {
      "image/png": "[encoded data removed]",
      "text/plain": [
       "plot without title"
      ]
     },
     "metadata": {},
     "output_type": "display_data"
    }
   ],
   "source": [
    "# plot the result\n",
    "p <- predict(linear, trainset[,c(\"Col3\", \"Col4\", \"Col5\", \"Label\")])\n",
    "p\n",
    "ldahist(data=p$x[,1], g=trainset$Label)"
   ]
  },
  {
   "cell_type": "code",
   "execution_count": null,
   "id": "4dfd3194",
   "metadata": {},
   "outputs": [],
   "source": []
  }
 ],
 "metadata": {
  "kernelspec": {
   "display_name": "R",
   "language": "R",
   "name": "ir"
  },
  "language_info": {
   "codemirror_mode": "r",
   "file_extension": ".r",
   "mimetype": "text/x-r-source",
   "name": "R",
   "pygments_lexer": "r",
   "version": "3.6.1"
  }
 },
 "nbformat": 4,
 "nbformat_minor": 5
}
