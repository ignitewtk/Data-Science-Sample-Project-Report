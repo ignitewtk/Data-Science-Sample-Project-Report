{
 "cells": [
  {
   "cell_type": "code",
   "execution_count": null,
   "id": "7af5bc21",
   "metadata": {},
   "outputs": [],
   "source": []
  },
  {
   "cell_type": "code",
   "execution_count": 117,
   "id": "d9ae7ef9",
   "metadata": {},
   "outputs": [
    {
     "name": "stderr",
     "output_type": "stream",
     "text": [
      "Your code contains a unicode char which cannot be displayed in your\n",
      "current locale and R will silently convert it to an escaped form when the\n",
      "R kernel executes this code. This can lead to subtle errors if you use\n",
      "such chars to do comparisons. For more information, please see\n",
      "https://github.com/IRkernel/repr/wiki/Problems-with-unicode-on-windows\n",
      "Attaching package: 'dplyr'\n",
      "\n",
      "The following objects are masked from 'package:stats':\n",
      "\n",
      "    filter, lag\n",
      "\n",
      "The following objects are masked from 'package:base':\n",
      "\n",
      "    intersect, setdiff, setequal, union\n",
      "\n",
      "Loading required package: lattice\n",
      "Loading required package: ggplot2\n",
      "Registered S3 methods overwritten by 'ggplot2':\n",
      "  method         from \n",
      "  [.quosures     rlang\n",
      "  c.quosures     rlang\n",
      "  print.quosures rlang\n"
     ]
    }
   ],
   "source": [
    "# Introducing library 导入项目所依赖的第三方代码库\n",
    "# library(tidyverse) # 是一个包含各种与数据科学项目相关的第三方库的综合库\n",
    "library(dplyr) # 用于数据变换、数据清理\n",
    "library(caret) # 用于机器学习建模\n",
    "library(ggplot2) # 用于绘图\n",
    "library(stringr) # 用于字符串数据处理\n",
    "library(\"class\")"
   ]
  },
  {
   "cell_type": "code",
   "execution_count": 309,
   "id": "23475c5d",
   "metadata": {},
   "outputs": [
    {
     "name": "stderr",
     "output_type": "stream",
     "text": [
      "Parsed with column specification:\n",
      "cols(\n",
      "  .default = col_double(),\n",
      "  track_id = col_character(),\n",
      "  track_name = col_character(),\n",
      "  track_artist = col_character(),\n",
      "  track_album_id = col_character(),\n",
      "  track_album_name = col_character(),\n",
      "  track_album_release_date = col_character(),\n",
      "  playlist_name = col_character(),\n",
      "  playlist_id = col_character(),\n",
      "  playlist_genre = col_character(),\n",
      "  playlist_subgenre = col_character()\n",
      ")\n",
      "See spec(...) for full column specifications.\n"
     ]
    }
   ],
   "source": [
    "raw_data <- readr::read_csv('https://raw.githubusercontent.com/rfordatascience/tidytuesday/master/data/2020/2020-01-21/spotify_songs.csv')"
   ]
  },
  {
   "cell_type": "code",
   "execution_count": 310,
   "id": "584a4c4a",
   "metadata": {},
   "outputs": [
    {
     "data": {
      "text/plain": [
       "   track_id          track_name        track_artist       track_popularity\n",
       " Length:32833       Length:32833       Length:32833       Min.   :  0.00  \n",
       " Class :character   Class :character   Class :character   1st Qu.: 24.00  \n",
       " Mode  :character   Mode  :character   Mode  :character   Median : 45.00  \n",
       "                                                          Mean   : 42.48  \n",
       "                                                          3rd Qu.: 62.00  \n",
       "                                                          Max.   :100.00  \n",
       " track_album_id     track_album_name   track_album_release_date\n",
       " Length:32833       Length:32833       Length:32833            \n",
       " Class :character   Class :character   Class :character        \n",
       " Mode  :character   Mode  :character   Mode  :character        \n",
       "                                                               \n",
       "                                                               \n",
       "                                                               \n",
       " playlist_name      playlist_id        playlist_genre     playlist_subgenre \n",
       " Length:32833       Length:32833       Length:32833       Length:32833      \n",
       " Class :character   Class :character   Class :character   Class :character  \n",
       " Mode  :character   Mode  :character   Mode  :character   Mode  :character  \n",
       "                                                                            \n",
       "                                                                            \n",
       "                                                                            \n",
       "  danceability        energy              key            loudness      \n",
       " Min.   :0.0000   Min.   :0.000175   Min.   : 0.000   Min.   :-46.448  \n",
       " 1st Qu.:0.5630   1st Qu.:0.581000   1st Qu.: 2.000   1st Qu.: -8.171  \n",
       " Median :0.6720   Median :0.721000   Median : 6.000   Median : -6.166  \n",
       " Mean   :0.6548   Mean   :0.698619   Mean   : 5.374   Mean   : -6.720  \n",
       " 3rd Qu.:0.7610   3rd Qu.:0.840000   3rd Qu.: 9.000   3rd Qu.: -4.645  \n",
       " Max.   :0.9830   Max.   :1.000000   Max.   :11.000   Max.   :  1.275  \n",
       "      mode         speechiness      acousticness    instrumentalness   \n",
       " Min.   :0.0000   Min.   :0.0000   Min.   :0.0000   Min.   :0.0000000  \n",
       " 1st Qu.:0.0000   1st Qu.:0.0410   1st Qu.:0.0151   1st Qu.:0.0000000  \n",
       " Median :1.0000   Median :0.0625   Median :0.0804   Median :0.0000161  \n",
       " Mean   :0.5657   Mean   :0.1071   Mean   :0.1753   Mean   :0.0847472  \n",
       " 3rd Qu.:1.0000   3rd Qu.:0.1320   3rd Qu.:0.2550   3rd Qu.:0.0048300  \n",
       " Max.   :1.0000   Max.   :0.9180   Max.   :0.9940   Max.   :0.9940000  \n",
       "    liveness         valence           tempo         duration_ms    \n",
       " Min.   :0.0000   Min.   :0.0000   Min.   :  0.00   Min.   :  4000  \n",
       " 1st Qu.:0.0927   1st Qu.:0.3310   1st Qu.: 99.96   1st Qu.:187819  \n",
       " Median :0.1270   Median :0.5120   Median :121.98   Median :216000  \n",
       " Mean   :0.1902   Mean   :0.5106   Mean   :120.88   Mean   :225800  \n",
       " 3rd Qu.:0.2480   3rd Qu.:0.6930   3rd Qu.:133.92   3rd Qu.:253585  \n",
       " Max.   :0.9960   Max.   :0.9910   Max.   :239.44   Max.   :517810  "
      ]
     },
     "metadata": {},
     "output_type": "display_data"
    }
   ],
   "source": [
    "summary(raw_data)\n",
    "# for (col in names(raw_data)) {\n",
    "#     print(paste(col,\":\", typeof(col)))\n",
    "# }\n",
    "# print(table(raw_data$playlist_genre))\n",
    "# print(table(raw_data$playlist_subgenre))"
   ]
  },
  {
   "cell_type": "code",
   "execution_count": 311,
   "id": "1f038d1c",
   "metadata": {},
   "outputs": [
    {
     "name": "stderr",
     "output_type": "stream",
     "text": [
      "Your code contains a unicode char which cannot be displayed in your\n",
      "current locale and R will silently convert it to an escaped form when the\n",
      "R kernel executes this code. This can lead to subtle errors if you use\n",
      "such chars to do comparisons. For more information, please see\n",
      "https://github.com/IRkernel/repr/wiki/Problems-with-unicode-on-windows"
     ]
    },
    {
     "data": {
      "image/png": "[encoded data removed]",
      "text/plain": [
       "plot without title"
      ]
     },
     "metadata": {},
     "output_type": "display_data"
    }
   ],
   "source": [
    "# EDA 数据探索分析\n",
    "\n",
    "pairs(~track_popularity+danceability,data=raw_data[sample(200), c('track_popularity', 'danceability')],\n",
    "   main=\"Simple Scatterplot Matrix\")"
   ]
  },
  {
   "cell_type": "code",
   "execution_count": 312,
   "id": "20e2a1a1",
   "metadata": {},
   "outputs": [
    {
     "data": {
      "image/png": "[encoded data removed]",
      "text/plain": [
       "Plot with title \"playlist_genre\""
      ]
     },
     "metadata": {},
     "output_type": "display_data"
    }
   ],
   "source": [
    "barplot(table(raw_data[, \"playlist_genre\"]), main=\"playlist_genre\", xlab=\"playlist_genre\")"
   ]
  },
  {
   "cell_type": "code",
   "execution_count": 313,
   "id": "6bbf0a51",
   "metadata": {},
   "outputs": [
    {
     "data": {
      "image/png": "[encoded data removed]",
      "text/plain": [
       "Plot with title \"playlist_subgenre\""
      ]
     },
     "metadata": {},
     "output_type": "display_data"
    }
   ],
   "source": [
    "barplot(table(raw_data[, \"playlist_subgenre\"]), main=\"playlist_subgenre\", xlab=\"playlist_subgenre\")"
   ]
  },
  {
   "cell_type": "code",
   "execution_count": 71,
   "id": "a3bc31a7",
   "metadata": {},
   "outputs": [
    {
     "name": "stdout",
     "output_type": "stream",
     "text": [
      "[1] \"Remove rows with empty value: 5\"\n",
      "[1] \"Remove rows with duplicated track ID: 4476\"\n"
     ]
    }
   ],
   "source": [
    "# Remove rows with empty value\n",
    "raw_data_rmna <- na.omit(raw_data)\n",
    "print(paste(\"Remove rows with empty value:\", nrow(raw_data) - nrow(raw_data_rmna)))\n",
    "# Remove rows with duplicated track Id\n",
    "raw_data_rmdup <- raw_data_rmna[!duplicated(raw_data_rmna[, c(\"track_id\", \"track_name\")]),]\n",
    "print(paste(\"Remove rows with duplicated track ID:\", nrow(raw_data_rmna) - nrow(raw_data_rmdup)))"
   ]
  },
  {
   "cell_type": "code",
   "execution_count": 290,
   "id": "c0428efd",
   "metadata": {},
   "outputs": [
    {
     "data": {
      "image/png": "[encoded data removed]",
      "text/plain": [
       "Plot with title \"Histogram of raw_data$loudness\""
      ]
     },
     "metadata": {},
     "output_type": "display_data"
    },
    {
     "data": {
      "image/png": "[encoded data removed]",
      "text/plain": [
       "Plot with title \"Histogram of raw_data$liveness\""
      ]
     },
     "metadata": {},
     "output_type": "display_data"
    },
    {
     "data": {
      "image/png": "[encoded data removed]",
      "text/plain": [
       "Plot with title \"Histogram of raw_data$duration_ms\""
      ]
     },
     "metadata": {},
     "output_type": "display_data"
    }
   ],
   "source": [
    "# Observe the data distribution, find skewness\n",
    "par(mfrow = c(2, 2))\n",
    "hist(raw_data$danceability)\n",
    "hist(raw_data$energy)\n",
    "hist(raw_data$key)\n",
    "hist(raw_data$loudness)\n",
    "hist(raw_data$speechiness)\n",
    "hist(raw_data$acousticness)\n",
    "hist(raw_data$instrumentalness)\n",
    "hist(raw_data$liveness)\n",
    "hist(raw_data$valence)\n",
    "hist(raw_data$tempo)\n",
    "hist(raw_data$duration_ms)"
   ]
  },
  {
   "cell_type": "code",
   "execution_count": 141,
   "id": "a67d30cb",
   "metadata": {},
   "outputs": [],
   "source": [
    "# Normalize data\n",
    "raw_data_norm <- raw_data_rmdup\n",
    "process <- preProcess(raw_data_norm, method=c(\"range\"))\n",
    "raw_data_norm <- predict(process, raw_data_norm)"
   ]
  },
  {
   "cell_type": "code",
   "execution_count": 291,
   "id": "22bfb9e2",
   "metadata": {},
   "outputs": [
    {
     "name": "stdout",
     "output_type": "stream",
     "text": [
      "[1] \"Number of rows in the new dataframe 2400\"\n"
     ]
    }
   ],
   "source": [
    "# Down sampling\n",
    "# copy the dataset schema to a temporary dataframe\n",
    "dataset <- raw_data_norm[0,]\n",
    "for (subgenre in unique(raw_data_norm$playlist_subgenre)) {\n",
    "    # for each sub data of differernt subgenre\n",
    "    tmdf <- raw_data_norm[raw_data_norm$playlist_subgenre == subgenre,] \n",
    "    # sample part of the data\n",
    "    tmdf <- tmdf[sample(nrow(tmdf), size=100, replace=FALSE),]\n",
    "    # combine it by rows to a new dataset\n",
    "    dataset <- rbind(dataset, tmdf)\n",
    "}\n",
    "print(paste(\"Number of rows in the new dataframe\", nrow(dataset)))"
   ]
  },
  {
   "cell_type": "code",
   "execution_count": 143,
   "id": "80a0d402",
   "metadata": {},
   "outputs": [
    {
     "data": {
      "text/plain": [
       "   track_id          track_name        track_artist       track_popularity\n",
       " Length:2400        Length:2400        Length:2400        Min.   :0.0000  \n",
       " Class :character   Class :character   Class :character   1st Qu.:0.2075  \n",
       " Mode  :character   Mode  :character   Mode  :character   Median :0.4300  \n",
       "                                                          Mean   :0.3929  \n",
       "                                                          3rd Qu.:0.5800  \n",
       "                                                          Max.   :0.9500  \n",
       " track_album_id     track_album_name   track_album_release_date\n",
       " Length:2400        Length:2400        Length:2400             \n",
       " Class :character   Class :character   Class :character        \n",
       " Mode  :character   Mode  :character   Mode  :character        \n",
       "                                                               \n",
       "                                                               \n",
       "                                                               \n",
       " playlist_name      playlist_id        playlist_genre     playlist_subgenre \n",
       " Length:2400        Length:2400        Length:2400        Length:2400       \n",
       " Class :character   Class :character   Class :character   Class :character  \n",
       " Mode  :character   Mode  :character   Mode  :character   Mode  :character  \n",
       "                                                                            \n",
       "                                                                            \n",
       "                                                                            \n",
       "  danceability         energy            key            loudness     \n",
       " Min.   :0.08006   Min.   :0.0000   Min.   :0.0000   Min.   :0.2198  \n",
       " 1st Qu.:0.56536   1st Qu.:0.5839   1st Qu.:0.1818   1st Qu.:0.7993  \n",
       " Median :0.68057   Median :0.7230   Median :0.5455   Median :0.8421  \n",
       " Mean   :0.66057   Mean   :0.6999   Mean   :0.4883   Mean   :0.8298  \n",
       " 3rd Qu.:0.76602   3rd Qu.:0.8482   3rd Qu.:0.8182   3rd Qu.:0.8753  \n",
       " Max.   :0.98881   Max.   :0.9980   Max.   :1.0000   Max.   :0.9641  \n",
       "      mode         speechiness       acousticness       instrumentalness   \n",
       " Min.   :0.0000   Min.   :0.02484   Min.   :0.0000014   Min.   :0.0000000  \n",
       " 1st Qu.:0.0000   1st Qu.:0.04357   1st Qu.:0.0144618   1st Qu.:0.0000000  \n",
       " Median :1.0000   Median :0.06694   Median :0.0790744   Median :0.0000191  \n",
       " Mean   :0.5613   Mean   :0.11509   Mean   :0.1782269   Mean   :0.0901540  \n",
       " 3rd Qu.:1.0000   3rd Qu.:0.14052   3rd Qu.:0.2590543   3rd Qu.:0.0058878  \n",
       " Max.   :1.0000   Max.   :0.93682   Max.   :0.9949698   Max.   :0.9778672  \n",
       "    liveness          valence            tempo         duration_ms     \n",
       " Min.   :0.01717   Min.   :0.01171   Min.   :0.2172   Min.   :0.04962  \n",
       " 1st Qu.:0.09114   1st Qu.:0.32896   1st Qu.:0.4176   1st Qu.:0.35917  \n",
       " Median :0.12550   Median :0.50656   Median :0.5095   Median :0.41456  \n",
       " Mean   :0.18956   Mean   :0.50643   Mean   :0.5061   Mean   :0.43449  \n",
       " 3rd Qu.:0.24398   3rd Qu.:0.69122   3rd Qu.:0.5613   3rd Qu.:0.49109  \n",
       " Max.   :0.99498   Max.   :0.98587   Max.   :0.9188   Max.   :0.98924  "
      ]
     },
     "metadata": {},
     "output_type": "display_data"
    }
   ],
   "source": [
    "summary(dataset)"
   ]
  },
  {
   "cell_type": "code",
   "execution_count": 149,
   "id": "17ee7b29",
   "metadata": {},
   "outputs": [],
   "source": [
    "# Dummy\n",
    "# head(model.matrix(~playlist_genre-1,data=raw_data))"
   ]
  },
  {
   "cell_type": "code",
   "execution_count": 292,
   "id": "cd00e5f5",
   "metadata": {
    "scrolled": true
   },
   "outputs": [
    {
     "data": {
      "text/plain": [
       "   track_id          track_name        track_artist       track_popularity\n",
       " Length:2400        Length:2400        Length:2400        Min.   :0.0000  \n",
       " Class :character   Class :character   Class :character   1st Qu.:0.2100  \n",
       " Mode  :character   Mode  :character   Mode  :character   Median :0.4300  \n",
       "                                                          Mean   :0.3931  \n",
       "                                                          3rd Qu.:0.5800  \n",
       "                                                          Max.   :0.9500  \n",
       " track_album_id     track_album_name   track_album_release_date\n",
       " Length:2400        Length:2400        Length:2400             \n",
       " Class :character   Class :character   Class :character        \n",
       " Mode  :character   Mode  :character   Mode  :character        \n",
       "                                                               \n",
       "                                                               \n",
       "                                                               \n",
       " playlist_name      playlist_id        playlist_genre     playlist_subgenre \n",
       " Length:2400        Length:2400        Length:2400        Length:2400       \n",
       " Class :character   Class :character   Class :character   Class :character  \n",
       " Mode  :character   Mode  :character   Mode  :character   Mode  :character  \n",
       "                                                                            \n",
       "                                                                            \n",
       "                                                                            \n",
       "  danceability         energy            key            loudness     \n",
       " Min.   :0.08006   Min.   :0.0000   Min.   :0.0000   Min.   :0.2198  \n",
       " 1st Qu.:0.56562   1st Qu.:0.5839   1st Qu.:0.1818   1st Qu.:0.7993  \n",
       " Median :0.68057   Median :0.7230   Median :0.5455   Median :0.8422  \n",
       " Mean   :0.66063   Mean   :0.7000   Mean   :0.4883   Mean   :0.8299  \n",
       " 3rd Qu.:0.76602   3rd Qu.:0.8482   3rd Qu.:0.8182   3rd Qu.:0.8755  \n",
       " Max.   :0.98881   Max.   :0.9980   Max.   :1.0000   Max.   :0.9641  \n",
       "      mode         speechiness       acousticness       instrumentalness   \n",
       " Min.   :0.0000   Min.   :0.02484   Min.   :0.0000014   Min.   :0.0000000  \n",
       " 1st Qu.:0.0000   1st Qu.:0.04357   1st Qu.:0.0144618   1st Qu.:0.0000000  \n",
       " Median :1.0000   Median :0.06672   Median :0.0791751   Median :0.0000191  \n",
       " Mean   :0.5604   Mean   :0.11494   Mean   :0.1782759   Mean   :0.0901540  \n",
       " 3rd Qu.:1.0000   3rd Qu.:0.14052   3rd Qu.:0.2590543   3rd Qu.:0.0058878  \n",
       " Max.   :1.0000   Max.   :0.93682   Max.   :0.9949698   Max.   :0.9778672  \n",
       "    liveness          valence            tempo         duration_ms     \n",
       " Min.   :0.01717   Min.   :0.01171   Min.   :0.2172   Min.   :0.04962  \n",
       " 1st Qu.:0.09114   1st Qu.:0.32795   1st Qu.:0.4176   1st Qu.:0.35933  \n",
       " Median :0.12550   Median :0.50555   Median :0.5094   Median :0.41517  \n",
       " Mean   :0.18970   Mean   :0.50597   Mean   :0.5057   Mean   :0.43463  \n",
       " 3rd Qu.:0.24398   3rd Qu.:0.69046   3rd Qu.:0.5606   3rd Qu.:0.49109  \n",
       " Max.   :0.99498   Max.   :0.98587   Max.   :0.9188   Max.   :0.98924  "
      ]
     },
     "metadata": {},
     "output_type": "display_data"
    },
    {
     "data": {
      "text/html": [
       "<ol class=list-inline>\n",
       "\t<li>'track_id'</li>\n",
       "\t<li>'track_name'</li>\n",
       "\t<li>'track_artist'</li>\n",
       "\t<li>'track_popularity'</li>\n",
       "\t<li>'track_album_id'</li>\n",
       "\t<li>'track_album_name'</li>\n",
       "\t<li>'track_album_release_date'</li>\n",
       "\t<li>'playlist_name'</li>\n",
       "\t<li>'playlist_id'</li>\n",
       "\t<li>'playlist_genre'</li>\n",
       "\t<li>'playlist_subgenre'</li>\n",
       "\t<li>'danceability'</li>\n",
       "\t<li>'energy'</li>\n",
       "\t<li>'key'</li>\n",
       "\t<li>'loudness'</li>\n",
       "\t<li>'mode'</li>\n",
       "\t<li>'speechiness'</li>\n",
       "\t<li>'acousticness'</li>\n",
       "\t<li>'instrumentalness'</li>\n",
       "\t<li>'liveness'</li>\n",
       "\t<li>'valence'</li>\n",
       "\t<li>'tempo'</li>\n",
       "\t<li>'duration_ms'</li>\n",
       "</ol>\n"
      ],
      "text/latex": [
       "\\begin{enumerate*}\n",
       "\\item 'track\\_id'\n",
       "\\item 'track\\_name'\n",
       "\\item 'track\\_artist'\n",
       "\\item 'track\\_popularity'\n",
       "\\item 'track\\_album\\_id'\n",
       "\\item 'track\\_album\\_name'\n",
       "\\item 'track\\_album\\_release\\_date'\n",
       "\\item 'playlist\\_name'\n",
       "\\item 'playlist\\_id'\n",
       "\\item 'playlist\\_genre'\n",
       "\\item 'playlist\\_subgenre'\n",
       "\\item 'danceability'\n",
       "\\item 'energy'\n",
       "\\item 'key'\n",
       "\\item 'loudness'\n",
       "\\item 'mode'\n",
       "\\item 'speechiness'\n",
       "\\item 'acousticness'\n",
       "\\item 'instrumentalness'\n",
       "\\item 'liveness'\n",
       "\\item 'valence'\n",
       "\\item 'tempo'\n",
       "\\item 'duration\\_ms'\n",
       "\\end{enumerate*}\n"
      ],
      "text/markdown": [
       "1. 'track_id'\n",
       "2. 'track_name'\n",
       "3. 'track_artist'\n",
       "4. 'track_popularity'\n",
       "5. 'track_album_id'\n",
       "6. 'track_album_name'\n",
       "7. 'track_album_release_date'\n",
       "8. 'playlist_name'\n",
       "9. 'playlist_id'\n",
       "10. 'playlist_genre'\n",
       "11. 'playlist_subgenre'\n",
       "12. 'danceability'\n",
       "13. 'energy'\n",
       "14. 'key'\n",
       "15. 'loudness'\n",
       "16. 'mode'\n",
       "17. 'speechiness'\n",
       "18. 'acousticness'\n",
       "19. 'instrumentalness'\n",
       "20. 'liveness'\n",
       "21. 'valence'\n",
       "22. 'tempo'\n",
       "23. 'duration_ms'\n",
       "\n",
       "\n"
      ],
      "text/plain": [
       " [1] \"track_id\"                 \"track_name\"              \n",
       " [3] \"track_artist\"             \"track_popularity\"        \n",
       " [5] \"track_album_id\"           \"track_album_name\"        \n",
       " [7] \"track_album_release_date\" \"playlist_name\"           \n",
       " [9] \"playlist_id\"              \"playlist_genre\"          \n",
       "[11] \"playlist_subgenre\"        \"danceability\"            \n",
       "[13] \"energy\"                   \"key\"                     \n",
       "[15] \"loudness\"                 \"mode\"                    \n",
       "[17] \"speechiness\"              \"acousticness\"            \n",
       "[19] \"instrumentalness\"         \"liveness\"                \n",
       "[21] \"valence\"                  \"tempo\"                   \n",
       "[23] \"duration_ms\"             "
      ]
     },
     "metadata": {},
     "output_type": "display_data"
    }
   ],
   "source": [
    "# determine columns\n",
    "summary(dataset)\n",
    "names(raw_data)\n",
    "id_cols = c('track_id','track_name')\n",
    "category_cols = c('track_artist', \n",
    "                  'playlist_name', 'playlist_id', \n",
    "                  'track_album_id', 'track_album_name', \n",
    "                  'track_album_release_date')\n",
    "numeric_cols = c('track_popularity', 'danceability', 'energy', 'key', 'loudness', 'mode', 'speechiness', 'acousticness', 'instrumentalness', 'liveness', 'valence', 'tempo', 'duration_ms')\n",
    "label_cols = c('playlist_genre', 'playlist_subgenre')"
   ]
  },
  {
   "cell_type": "code",
   "execution_count": 186,
   "id": "4db300d6",
   "metadata": {},
   "outputs": [],
   "source": [
    "# Split dataset\n",
    "set.seed(2874934)\n",
    "dataset$playlist_genre <- as.factor(dataset$playlist_genre)\n",
    "ind <- sample(2, nrow(dataset), replace=TRUE, prob=c(0.8, 0.2))\n",
    "trainset <- dataset[ind==1,]\n",
    "testset <- dataset[ind==2,]"
   ]
  },
  {
   "cell_type": "code",
   "execution_count": 187,
   "id": "8932e57f",
   "metadata": {},
   "outputs": [
    {
     "data": {
      "text/html": [
       "<ol class=list-inline>\n",
       "\t<li>1899</li>\n",
       "\t<li>13</li>\n",
       "</ol>\n"
      ],
      "text/latex": [
       "\\begin{enumerate*}\n",
       "\\item 1899\n",
       "\\item 13\n",
       "\\end{enumerate*}\n"
      ],
      "text/markdown": [
       "1. 1899\n",
       "2. 13\n",
       "\n",
       "\n"
      ],
      "text/plain": [
       "[1] 1899   13"
      ]
     },
     "metadata": {},
     "output_type": "display_data"
    },
    {
     "data": {
      "text/html": [
       "<ol class=list-inline>\n",
       "\t<li>1899</li>\n",
       "\t<li>1</li>\n",
       "</ol>\n"
      ],
      "text/latex": [
       "\\begin{enumerate*}\n",
       "\\item 1899\n",
       "\\item 1\n",
       "\\end{enumerate*}\n"
      ],
      "text/markdown": [
       "1. 1899\n",
       "2. 1\n",
       "\n",
       "\n"
      ],
      "text/plain": [
       "[1] 1899    1"
      ]
     },
     "metadata": {},
     "output_type": "display_data"
    },
    {
     "data": {
      "text/html": [
       "<ol class=list-inline>\n",
       "\t<li>501</li>\n",
       "\t<li>13</li>\n",
       "</ol>\n"
      ],
      "text/latex": [
       "\\begin{enumerate*}\n",
       "\\item 501\n",
       "\\item 13\n",
       "\\end{enumerate*}\n"
      ],
      "text/markdown": [
       "1. 501\n",
       "2. 13\n",
       "\n",
       "\n"
      ],
      "text/plain": [
       "[1] 501  13"
      ]
     },
     "metadata": {},
     "output_type": "display_data"
    },
    {
     "data": {
      "text/html": [
       "<ol class=list-inline>\n",
       "\t<li>501</li>\n",
       "\t<li>1</li>\n",
       "</ol>\n"
      ],
      "text/latex": [
       "\\begin{enumerate*}\n",
       "\\item 501\n",
       "\\item 1\n",
       "\\end{enumerate*}\n"
      ],
      "text/markdown": [
       "1. 501\n",
       "2. 1\n",
       "\n",
       "\n"
      ],
      "text/plain": [
       "[1] 501   1"
      ]
     },
     "metadata": {},
     "output_type": "display_data"
    },
    {
     "data": {
      "text/html": [
       "6"
      ],
      "text/latex": [
       "6"
      ],
      "text/markdown": [
       "6"
      ],
      "text/plain": [
       "[1] 6"
      ]
     },
     "metadata": {},
     "output_type": "display_data"
    }
   ],
   "source": [
    "dim(trainX)\n",
    "dim(trainY)\n",
    "dim(testX)\n",
    "dim(testY)\n",
    "length(unique(testY)$playlist_genre)"
   ]
  },
  {
   "cell_type": "markdown",
   "id": "f81fd195",
   "metadata": {},
   "source": [
    "#### KNN"
   ]
  },
  {
   "cell_type": "code",
   "execution_count": 284,
   "id": "ed7a815b",
   "metadata": {},
   "outputs": [
    {
     "data": {
      "text/html": [
       "<ol class=list-inline>\n",
       "\t<li>'playlist_genre'</li>\n",
       "\t<li>'playlist_subgenre'</li>\n",
       "</ol>\n"
      ],
      "text/latex": [
       "\\begin{enumerate*}\n",
       "\\item 'playlist\\_genre'\n",
       "\\item 'playlist\\_subgenre'\n",
       "\\end{enumerate*}\n"
      ],
      "text/markdown": [
       "1. 'playlist_genre'\n",
       "2. 'playlist_subgenre'\n",
       "\n",
       "\n"
      ],
      "text/plain": [
       "[1] \"playlist_genre\"    \"playlist_subgenre\""
      ]
     },
     "metadata": {},
     "output_type": "display_data"
    },
    {
     "ename": "ERROR",
     "evalue": "Error in knn(trainX, testX, cl = trainY, k = 2): 'train' and 'class' have different lengths\n",
     "output_type": "error",
     "traceback": [
      "Error in knn(trainX, testX, cl = trainY, k = 2): 'train' and 'class' have different lengths\nTraceback:\n",
      "1. knn(trainX, testX, cl = trainY, k = 2)",
      "2. stop(\"'train' and 'class' have different lengths\")"
     ]
    }
   ],
   "source": [
    "\n",
    "label_cols\n",
    "trainX <- trainset[, numeric_cols]\n",
    "trainY <- trainset[,names(trainset)[names(trainset)==\"playlist_genre\"]]\n",
    "testX <- testset[, numeric_cols]\n",
    "testY <- testset[,names(testset)[names(testset)==\"playlist_genre\"]]\n",
    "res <- knn(trainX, testX, cl=trainY, k=2)\n",
    "\n"
   ]
  },
  {
   "cell_type": "markdown",
   "id": "5c3c7304",
   "metadata": {},
   "source": [
    "#### LDA"
   ]
  },
  {
   "cell_type": "code",
   "execution_count": 300,
   "id": "4b634891",
   "metadata": {},
   "outputs": [
    {
     "data": {
      "image/png": "[encoded data removed]",
      "text/plain": [
       "plot without title"
      ]
     },
     "metadata": {},
     "output_type": "display_data"
    }
   ],
   "source": [
    "# https://www.r-bloggers.com/2021/05/linear-discriminant-analysis-in-r/\n",
    "library(MASS)\n",
    "\n",
    "# Fit the LDA model, return the classifier\n",
    "linear <- lda(playlist_genre~., trainset[,c(numeric_cols, \"playlist_genre\")])\n",
    "\n",
    "\n",
    "# Make prediction\n",
    "pred <- predict(linear, testset[,c(numeric_cols, \"playlist_genre\")])\n",
    "# ldahist(data=p$x[,1], g=trainset[,c(numeric_cols, \"playlist_genre\")]$playlist_genre)\n",
    "\n",
    "# Aggregate predictions\n",
    "res <- data.frame(pred$class, testY$playlist_genre)\n",
    "names(res) <- c(\"Prediction\", \"GroundTrue\")\n",
    "res_stat <- res %>% group_by(Prediction, GroundTrue) %>% summarise(total_count=n())\n",
    "\n",
    "# Plot confusion matrix\n",
    "ggplot(data=res_stat, mapping=aes(x=Prediction, y=GroundTrue)) + \n",
    "    geom_tile(aes(fill = total_count), colour = \"white\") +\n",
    "    geom_text(aes(label=sprintf(\"%1.00f\", total_count)), vjust = 1) +\n",
    "    scale_fill_gradient(low=\"white\", high=\"green4\") +\n",
    "    theme_bw() + theme(legend.position = \"none\")"
   ]
  },
  {
   "cell_type": "code",
   "execution_count": 294,
   "id": "77bcb6c5",
   "metadata": {},
   "outputs": [
    {
     "name": "stderr",
     "output_type": "stream",
     "text": [
      "Warning message in roc.default(as.numeric(p$class), as.numeric(testY$playlist_genre)):\n",
      "\"'response' has more than two levels. Consider setting 'levels' explicitly or using 'multiclass.roc' instead\""
     ]
    },
    {
     "data": {
      "text/plain": [
       "\n",
       "Call:\n",
       "roc.default(response = as.numeric(p$class), predictor = as.numeric(testY$playlist_genre))\n",
       "\n",
       "Data: as.numeric(testY$playlist_genre) in 90 controls (as.numeric(p$class) 1) < 94 cases (as.numeric(p$class) 2).\n",
       "Area under the curve: 0.6664"
      ]
     },
     "metadata": {},
     "output_type": "display_data"
    },
    {
     "data": {
      "image/png": "[encoded data removed]",
      "text/plain": [
       "plot without title"
      ]
     },
     "metadata": {},
     "output_type": "display_data"
    }
   ],
   "source": [
    "library(pROC)\n",
    "\n",
    "# Evaluate ROC value\n",
    "roc.playlist_genre <- roc(as.numeric(p$class), as.numeric(testY$playlist_genre))\n",
    "# par(mfrow = c(2, 2))\n",
    "roc.playlist_genre\n",
    "plot(roc.playlist_genre)"
   ]
  },
  {
   "cell_type": "markdown",
   "id": "4ff75bd3",
   "metadata": {},
   "source": [
    "#### Random Forest"
   ]
  },
  {
   "cell_type": "code",
   "execution_count": 298,
   "id": "eae1ecb8",
   "metadata": {},
   "outputs": [
    {
     "data": {
      "text/plain": [
       "\n",
       "Call:\n",
       " randomForest(formula = playlist_genre ~ ., data = trainset[,      c(numeric_cols, \"playlist_genre\")], proximity = TRUE) \n",
       "               Type of random forest: classification\n",
       "                     Number of trees: 500\n",
       "No. of variables tried at each split: 3\n",
       "\n",
       "        OOB estimate of  error rate: 45.29%\n",
       "Confusion matrix:\n",
       "      edm latin pop r&b rap rock class.error\n",
       "edm   216    29  29  15  15   17   0.3271028\n",
       "latin  26   156  41  36  57   11   0.5229358\n",
       "pop    39    58 101  37  27   47   0.6731392\n",
       "r&b    14    44  19 146  65   31   0.5423197\n",
       "rap    19    32  15  42 195   11   0.3789809\n",
       "rock   16    11  19  33   5  225   0.2718447"
      ]
     },
     "metadata": {},
     "output_type": "display_data"
    }
   ],
   "source": [
    "library(randomForest)\n",
    "rf <- randomForest(playlist_genre~., data=trainset[,c(numeric_cols, \"playlist_genre\")], proximity=TRUE)\n",
    "rf"
   ]
  },
  {
   "cell_type": "code",
   "execution_count": 305,
   "id": "b80c1d9a",
   "metadata": {},
   "outputs": [
    {
     "data": {
      "image/png": "[encoded data removed]",
      "text/plain": [
       "plot without title"
      ]
     },
     "metadata": {},
     "output_type": "display_data"
    }
   ],
   "source": [
    "pred <- predict(rf, testset[,c(numeric_cols, \"playlist_genre\")])\n",
    "pred <- data.frame(pred)\n",
    "names(pred) = c(\"class\")\n",
    "# Aggregate predictions\n",
    "res <- data.frame(pred$class, testY$playlist_genre)\n",
    "names(res) <- c(\"Prediction\", \"GroundTrue\")\n",
    "res_stat <- res %>% group_by(Prediction, GroundTrue) %>% summarise(total_count=n())\n",
    "\n",
    "# Plot confusion matrix\n",
    "ggplot(data=res_stat, mapping=aes(x=Prediction, y=GroundTrue)) + \n",
    "    geom_tile(aes(fill = total_count), colour = \"white\") +\n",
    "    geom_text(aes(label=sprintf(\"%1.00f\", total_count)), vjust = 1) +\n",
    "    scale_fill_gradient(low=\"white\", high=\"green4\") +\n",
    "    theme_bw() + theme(legend.position = \"none\")"
   ]
  },
  {
   "cell_type": "code",
   "execution_count": 307,
   "id": "07d4722f",
   "metadata": {},
   "outputs": [
    {
     "name": "stderr",
     "output_type": "stream",
     "text": [
      "Warning message in roc.default(as.numeric(pred$class), as.numeric(testY$playlist_genre)):\n",
      "\"'response' has more than two levels. Consider setting 'levels' explicitly or using 'multiclass.roc' instead\""
     ]
    },
    {
     "data": {
      "text/plain": [
       "\n",
       "Call:\n",
       "roc.default(response = as.numeric(pred$class), predictor = as.numeric(testY$playlist_genre))\n",
       "\n",
       "Data: as.numeric(testY$playlist_genre) in 92 controls (as.numeric(pred$class) 1) < 98 cases (as.numeric(pred$class) 2).\n",
       "Area under the curve: 0.7063"
      ]
     },
     "metadata": {},
     "output_type": "display_data"
    },
    {
     "data": {
      "image/png": "[encoded data removed]",
      "text/plain": [
       "plot without title"
      ]
     },
     "metadata": {},
     "output_type": "display_data"
    }
   ],
   "source": [
    "# Evaluate ROC value\n",
    "roc.playlist_genre <- roc(as.numeric(pred$class), as.numeric(testY$playlist_genre))\n",
    "# par(mfrow = c(2, 2))\n",
    "roc.playlist_genre\n",
    "plot(roc.playlist_genre)"
   ]
  },
  {
   "cell_type": "code",
   "execution_count": null,
   "id": "e468ca47",
   "metadata": {},
   "outputs": [],
   "source": []
  },
  {
   "cell_type": "code",
   "execution_count": null,
   "id": "6288fa14",
   "metadata": {},
   "outputs": [],
   "source": []
  },
  {
   "cell_type": "code",
   "execution_count": null,
   "id": "aa4eb481",
   "metadata": {},
   "outputs": [],
   "source": [
    "# Data preprocessing 数据预处理（数据清洗）\n",
    "\n",
    "# 1. 确定列数据类型\n",
    "\n",
    "# 2. 处理缺失值\n",
    "\n",
    "# 3. 处理噪音数据 outlier\n",
    "\n",
    "# 4. 处理重复记录\n",
    "# raw_data[!duplicated(raw_data),]"
   ]
  },
  {
   "cell_type": "code",
   "execution_count": null,
   "id": "85eacb28",
   "metadata": {},
   "outputs": [],
   "source": [
    "# Data Transformation 数据转换\n",
    "\n",
    "# 1. 类别数据离散化 data dumming （比如字符串类别数据按类别转换成 0-1 特征向量\n",
    "\n",
    "# 2. 特征选择（ID等唯一性的特征可以省略掉）\n",
    "\n",
    "# 3. 数据规范化、归一化 （改变数据的分布，便于加速求解收敛）\n"
   ]
  },
  {
   "cell_type": "code",
   "execution_count": 289,
   "id": "3e3d3027",
   "metadata": {},
   "outputs": [],
   "source": [
    "# print(table(raw_data$playlist_genre))\n",
    "# print(length(category_cols))\n",
    "# cols = 2\n",
    "# rows = length(category_cols)/2\n",
    "\n",
    "# par(mfrow = c(5, 1))\n",
    "# for (i in category_cols[1:length(category_cols)]) {\n",
    "#     barplot(\n",
    "#         table(raw_data[, i]), \n",
    "#         main=i, \n",
    "#         xlab=i)\n",
    "# }"
   ]
  },
  {
   "cell_type": "code",
   "execution_count": null,
   "id": "d4e11e3b",
   "metadata": {},
   "outputs": [],
   "source": []
  }
 ],
 "metadata": {
  "kernelspec": {
   "display_name": "R",
   "language": "R",
   "name": "ir"
  },
  "language_info": {
   "codemirror_mode": "r",
   "file_extension": ".r",
   "mimetype": "text/x-r-source",
   "name": "R",
   "pygments_lexer": "r",
   "version": "3.6.1"
  }
 },
 "nbformat": 4,
 "nbformat_minor": 5
}
